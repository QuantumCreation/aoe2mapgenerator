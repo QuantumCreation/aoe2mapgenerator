{
 "cells": [
  {
   "cell_type": "code",
   "execution_count": 1,
   "metadata": {},
   "outputs": [],
   "source": [
    "import sys\n",
    "sys.path.append('../')"
   ]
  },
  {
   "cell_type": "code",
   "execution_count": 1,
   "metadata": {},
   "outputs": [],
   "source": [
    "from AoE2ScenarioParser.datasets.players import PlayerId\n",
    "from AoE2ScenarioParser.datasets.units import UnitInfo\n",
    "from AoE2ScenarioParser.datasets.buildings import BuildingInfo\n",
    "from AoE2ScenarioParser.datasets.other import OtherInfo\n",
    "from AoE2ScenarioParser.datasets.terrains import TerrainId\n",
    "from aoe2mapgenerator.common.enums.enum import (\n",
    "    MapLayerType, \n",
    "    ObjectSize, \n",
    "    GateTypes, \n",
    "    TemplateTypes, \n",
    "    ObjectRotation, \n",
    "    YamlReplacementKeywords,\n",
    "    CheckPlacementReturnTypes\n",
    ")\n",
    "\n",
    "from aoe2mapgenerator.scenario.scenario import Scenario\n",
    "import numpy as np\n",
    "import random\n",
    "from time import time\n",
    "from aoe2mapgenerator.common.constants.constants import DEFAULT_EMPTY_VALUE, BASE_SCENE_DIR\n",
    "from aoe2mapgenerator.common.enums.enum import GateTypes\n",
    "import multiprocessing as mp\n",
    "from aoe2mapgenerator.map.map import Map\n",
    "import os"
   ]
  },
  {
   "cell_type": "code",
   "execution_count": 2,
   "metadata": {},
   "outputs": [],
   "source": [
    "input_name = \"1 vs 7 default.aoe2scenario\"\n",
    "output_name = \"0_BASIC_SCENARIO.aoe2scenario\""
   ]
  },
  {
   "cell_type": "code",
   "execution_count": 3,
   "metadata": {},
   "outputs": [],
   "source": [
    "# start_time = time()\n",
    "# # result = np.array(lst)\n",
    "# lst = np.array(lst)\n",
    "# end_time = time()\n",
    "# print(end_time-start_time)"
   ]
  },
  {
   "cell_type": "code",
   "execution_count": 4,
   "metadata": {},
   "outputs": [],
   "source": [
    "map_size = 256\n",
    "map = Map(map_size)\n",
    "new_zones = map.voronoi(75,\n",
    "            [MapLayerType.UNIT, MapLayerType.TERRAIN, MapLayerType.ZONE, MapLayerType.DECOR],\n",
    "            [DEFAULT_EMPTY_VALUE, DEFAULT_EMPTY_VALUE, DEFAULT_EMPTY_VALUE, DEFAULT_EMPTY_VALUE])\n",
    "\n",
    "keys = list(map.get_map_layer(MapLayerType.UNIT).dict.keys())\n",
    "\n",
    "for city_zone in keys:\n",
    "    map.add_borders(\n",
    "        [MapLayerType.TERRAIN, MapLayerType.UNIT, MapLayerType.ZONE, MapLayerType.DECOR],\n",
    "        [city_zone, city_zone, city_zone,city_zone],\n",
    "        TerrainId.ROAD_FUNGUS,\n",
    "        margin = 2,\n",
    "        )"
   ]
  },
  {
   "cell_type": "code",
   "execution_count": 5,
   "metadata": {},
   "outputs": [],
   "source": [
    "def build_city(zone, player_id):\n",
    "    \"\"\"\n",
    "    Build city in zone\n",
    "    \"\"\"\n",
    "    print(\"BUILD CITY\")\n",
    "\n",
    "    map.add_borders(\n",
    "        [MapLayerType.TERRAIN, MapLayerType.ZONE, MapLayerType.UNIT, MapLayerType.DECOR],\n",
    "        [zone, zone, zone, zone],\n",
    "        TerrainId.GRASS_2,\n",
    "        margin = 10\n",
    "        )\n",
    "\n",
    "    map.place_template(\n",
    "            'oak_forest.yaml',\n",
    "            map_layer_type_list = [MapLayerType.UNIT, MapLayerType.TERRAIN, MapLayerType.ZONE, MapLayerType.DECOR],\n",
    "            array_space_type_list = [zone, (TerrainId.GRASS_2, PlayerId.GAIA), zone, zone],\n",
    "            player_id = player_id,\n",
    "        )\n",
    "\n",
    "    map.place_template(\n",
    "            'walls.yaml',\n",
    "            map_layer_type_list = [MapLayerType.UNIT, MapLayerType.TERRAIN, MapLayerType.ZONE, MapLayerType.DECOR],\n",
    "            array_space_type_list = [zone, zone, zone, zone],\n",
    "            player_id = player_id,\n",
    "        )\n",
    "    \n",
    "    map.add_borders(\n",
    "        [MapLayerType.TERRAIN, MapLayerType.ZONE, MapLayerType.UNIT, MapLayerType.DECOR],\n",
    "        [zone, zone, zone, zone],\n",
    "        TerrainId.ROAD_FUNGUS,\n",
    "        margin = 1\n",
    "        )\n",
    "    \n",
    "    city_zones = map.voronoi(35,\n",
    "                [MapLayerType.UNIT, MapLayerType.TERRAIN, MapLayerType.ZONE, MapLayerType.DECOR],\n",
    "                [zone, zone, zone, zone],\n",
    "            )\n",
    "    \n",
    "    for city_zone in city_zones:\n",
    "        map.add_borders(\n",
    "            [MapLayerType.TERRAIN, MapLayerType.UNIT, MapLayerType.ZONE, MapLayerType.DECOR],\n",
    "            [city_zone, city_zone, city_zone, city_zone],\n",
    "            TerrainId.ROAD_FUNGUS,\n",
    "            margin = 1\n",
    "            )\n",
    "        \n",
    "        map.place_template(\n",
    "            'oak_forest.yaml',\n",
    "            map_layer_type_list = [MapLayerType.UNIT, MapLayerType.TERRAIN, MapLayerType.ZONE, MapLayerType.DECOR],\n",
    "            array_space_type_list = [city_zone, city_zone, city_zone, city_zone],\n",
    "        )\n",
    "\n",
    "        map.place_template(\n",
    "            'City.yaml',\n",
    "            map_layer_type_list = [MapLayerType.UNIT, MapLayerType.TERRAIN, MapLayerType.ZONE, MapLayerType.DECOR],\n",
    "            array_space_type_list = [city_zone, city_zone, city_zone, city_zone],\n",
    "            player_id = player_id,\n",
    "        )"
   ]
  },
  {
   "cell_type": "code",
   "execution_count": 6,
   "metadata": {},
   "outputs": [
    {
     "name": "stdout",
     "output_type": "stream",
     "text": [
      "C:\\Users\\josep\\Games\\Age of Empires 2 DE\\76561198242754748\\resources\\_common\\scenario\\\n"
     ]
    }
   ],
   "source": [
    "print(BASE_SCENE_DIR)"
   ]
  },
  {
   "cell_type": "code",
   "execution_count": 7,
   "metadata": {},
   "outputs": [],
   "source": [
    "def build_snow_forest(zone, player_id):\n",
    "    \"\"\"\n",
    "    Build snow forest in zone\n",
    "    \"\"\"\n",
    "    print(\"BUILD FOREST\")\n",
    "    \n",
    "    map.place_template(\n",
    "            'snow_forest.yaml',\n",
    "            map_layer_type_list = [MapLayerType.UNIT, MapLayerType.TERRAIN, MapLayerType.ZONE, MapLayerType.DECOR],\n",
    "            array_space_type_list = [zone, zone, zone, zone],\n",
    "            player_id = player_id,\n",
    "        )"
   ]
  },
  {
   "cell_type": "code",
   "execution_count": 8,
   "metadata": {},
   "outputs": [
    {
     "name": "stdout",
     "output_type": "stream",
     "text": [
      "BUILD FOREST\n",
      "NEW TEMPLATE LOADED: snow_forest.yaml\n",
      "The value (<TerrainId.GRASS_2: 12>, <PlayerId.GAIA: 0>) is not present in the MapLayerType.TERRAIN map.\n",
      "BUILD CITY\n",
      "NEW TEMPLATE LOADED: oak_forest.yaml\n",
      "NEW TEMPLATE LOADED: walls.yaml\n",
      "NEW TEMPLATE LOADED: City.yaml\n",
      "BUILD FOREST\n",
      "BUILD CITY\n",
      "BUILD FOREST\n",
      "BUILD FOREST\n",
      "BUILD CITY\n",
      "BUILD FOREST\n",
      "BUILD FOREST\n",
      "BUILD CITY\n",
      "BUILD FOREST\n"
     ]
    }
   ],
   "source": [
    "counter = 0\n",
    "for i, zone in enumerate(new_zones):\n",
    "    # print(zone)\n",
    "    counter += 1\n",
    "    if counter >= 9:\n",
    "        counter = 1\n",
    "    \n",
    "    if random.random() > 0.5:\n",
    "        build_city(zone, PlayerId(counter))\n",
    "    else:\n",
    "        build_snow_forest(zone, PlayerId(counter))\n",
    "        "
   ]
  },
  {
   "cell_type": "code",
   "execution_count": 9,
   "metadata": {},
   "outputs": [],
   "source": [
    "map.visualize_mat(MapLayerType.UNIT, include_zones=False)"
   ]
  },
  {
   "cell_type": "code",
   "execution_count": null,
   "metadata": {},
   "outputs": [
    {
     "name": "stdout",
     "output_type": "stream",
     "text": [
      "\n",
      "[22:59:50] Reading file: \u001b[35m'C:\\Users\\josep\\Games\\Age of Empires 2 DE\\76561198242754748\\resources\\_common\\scenario\\BASE_SCENARIO.aoe2scenario'\u001b[0m\n",
      "[22:59:50] Reading scenario file finished successfully.\n",
      "\u001b[34m\n",
      "############### Attributes ###############\u001b[0m\n",
      "\u001b[34m>>> Game version: 'DE'\u001b[0m\n",
      "\u001b[34m>>> Scenario version: 1.51\u001b[0m\n",
      "\u001b[34m>>> Scenario variant: 'Age of Empires 2'\u001b[0m\n",
      "\u001b[34m##########################################\u001b[0m\n",
      "\n",
      "[22:59:50] Loading scenario structure..."
     ]
    },
    {
     "ename": "UnknownScenarioStructureError",
     "evalue": "The version DE:1.51 is not supported by AoE2ScenarioParser. :(",
     "output_type": "error",
     "traceback": [
      "\u001b[1;31m---------------------------------------------------------------------------\u001b[0m",
      "\u001b[1;31mUnknownScenarioStructureError\u001b[0m             Traceback (most recent call last)",
      "\u001b[1;32mc:\\Users\\josep\\OneDrive\\Documents\\GitHub\\aoe2mapgenerator\\aoe2mapgenerator\\maingenerator.ipynb Cell 11\u001b[0m line \u001b[0;36m<cell line: 1>\u001b[1;34m()\u001b[0m\n\u001b[1;32m----> <a href='vscode-notebook-cell:/c%3A/Users/josep/OneDrive/Documents/GitHub/aoe2mapgenerator/aoe2mapgenerator/maingenerator.ipynb#Y150sZmlsZQ%3D%3D?line=0'>1</a>\u001b[0m scenario \u001b[39m=\u001b[39m Scenario(\u001b[39mmap\u001b[39;49m)\n",
      "File \u001b[1;32m~\\OneDrive\\Documents\\GitHub\\aoe2mapgenerator\\aoe2mapgenerator\\scenario\\scenario.py:31\u001b[0m, in \u001b[0;36mScenario.__init__\u001b[1;34m(self, map, base_scenario_full_path)\u001b[0m\n\u001b[0;32m     23\u001b[0m \u001b[39mdef\u001b[39;00m \u001b[39m__init__\u001b[39m(\u001b[39mself\u001b[39m, \u001b[39mmap\u001b[39m: Map, base_scenario_full_path: \u001b[39mstr\u001b[39m \u001b[39m=\u001b[39m os\u001b[39m.\u001b[39mpath\u001b[39m.\u001b[39mjoin(BASE_SCENE_DIR, BASE_SCENARIO_NAME)) \u001b[39m-\u001b[39m\u001b[39m>\u001b[39m \u001b[39mNone\u001b[39;00m:\n\u001b[0;32m     24\u001b[0m     \u001b[39m\"\"\"\u001b[39;00m\n\u001b[0;32m     25\u001b[0m \u001b[39m    Creates a scenario with the given name.\u001b[39;00m\n\u001b[0;32m     26\u001b[0m \n\u001b[1;32m   (...)\u001b[0m\n\u001b[0;32m     29\u001b[0m \u001b[39m        base_scenario_full_path (str, optional): Path to the base scenario file. Defaults to BASE_SCENARIO_FULL_PATH.\u001b[39;00m\n\u001b[0;32m     30\u001b[0m \u001b[39m    \"\"\"\u001b[39;00m\n\u001b[1;32m---> 31\u001b[0m     \u001b[39mself\u001b[39m\u001b[39m.\u001b[39mscenario \u001b[39m=\u001b[39m \u001b[39mself\u001b[39;49m\u001b[39m.\u001b[39;49mget_scenario(base_scenario_full_path)\n\u001b[0;32m     32\u001b[0m     \u001b[39mself\u001b[39m\u001b[39m.\u001b[39mmap \u001b[39m=\u001b[39m \u001b[39mmap\u001b[39m\n",
      "File \u001b[1;32m~\\OneDrive\\Documents\\GitHub\\aoe2mapgenerator\\aoe2mapgenerator\\scenario\\scenario.py:41\u001b[0m, in \u001b[0;36mScenario.get_scenario\u001b[1;34m(self, file_full_path)\u001b[0m\n\u001b[0;32m     34\u001b[0m \u001b[39mdef\u001b[39;00m \u001b[39mget_scenario\u001b[39m(\u001b[39mself\u001b[39m, file_full_path: \u001b[39mstr\u001b[39m) \u001b[39m-\u001b[39m\u001b[39m>\u001b[39m AoE2DEScenario:\n\u001b[0;32m     35\u001b[0m     \u001b[39m\"\"\"\u001b[39;00m\n\u001b[0;32m     36\u001b[0m \u001b[39m    Loads a scenario from the given file name.\u001b[39;00m\n\u001b[0;32m     37\u001b[0m \n\u001b[0;32m     38\u001b[0m \u001b[39m    Args:\u001b[39;00m\n\u001b[0;32m     39\u001b[0m \u001b[39m        file_full_path (str): Full path to the scenario file.\u001b[39;00m\n\u001b[0;32m     40\u001b[0m \u001b[39m    \"\"\"\u001b[39;00m\n\u001b[1;32m---> 41\u001b[0m     \u001b[39mreturn\u001b[39;00m AoE2DEScenario\u001b[39m.\u001b[39;49mfrom_file(file_full_path)\n",
      "File \u001b[1;32mc:\\Users\\josep\\AppData\\Local\\Programs\\Python\\Python310\\lib\\site-packages\\AoE2ScenarioParser\\scenarios\\aoe2_de_scenario.py:61\u001b[0m, in \u001b[0;36mAoE2DEScenario.from_file\u001b[1;34m(cls, path, game_version, name)\u001b[0m\n\u001b[0;32m     48\u001b[0m \u001b[39m@classmethod\u001b[39m\n\u001b[0;32m     49\u001b[0m \u001b[39mdef\u001b[39;00m \u001b[39mfrom_file\u001b[39m(\u001b[39mcls\u001b[39m: Type[S], path: \u001b[39mstr\u001b[39m, game_version: \u001b[39mstr\u001b[39m \u001b[39m=\u001b[39m \u001b[39m\"\u001b[39m\u001b[39mDE\u001b[39m\u001b[39m\"\u001b[39m, name: \u001b[39mstr\u001b[39m \u001b[39m=\u001b[39m \u001b[39m\"\u001b[39m\u001b[39m\"\u001b[39m) \u001b[39m-\u001b[39m\u001b[39m>\u001b[39m S:\n\u001b[0;32m     50\u001b[0m     \u001b[39m\"\"\"\u001b[39;00m\n\u001b[0;32m     51\u001b[0m \u001b[39m    Creates and returns an instance of the AoE2DEScenario class from the given scenario file\u001b[39;00m\n\u001b[0;32m     52\u001b[0m \n\u001b[1;32m   (...)\u001b[0m\n\u001b[0;32m     59\u001b[0m \u001b[39m        An instance of the AoE2DEScenario class which is the object representation of the given scenario file\u001b[39;00m\n\u001b[0;32m     60\u001b[0m \u001b[39m    \"\"\"\u001b[39;00m\n\u001b[1;32m---> 61\u001b[0m     \u001b[39mreturn\u001b[39;00m \u001b[39msuper\u001b[39;49m()\u001b[39m.\u001b[39;49mfrom_file(path\u001b[39m=\u001b[39;49mpath, game_version\u001b[39m=\u001b[39;49mgame_version, name\u001b[39m=\u001b[39;49mname)\n",
      "File \u001b[1;32mc:\\Users\\josep\\AppData\\Local\\Programs\\Python\\Python310\\lib\\site-packages\\AoE2ScenarioParser\\scenarios\\aoe2_scenario.py:157\u001b[0m, in \u001b[0;36mAoE2Scenario.from_file\u001b[1;34m(cls, path, game_version, name)\u001b[0m\n\u001b[0;32m    154\u001b[0m s_print(\u001b[39m\"\u001b[39m\u001b[39m##########################################\u001b[39m\u001b[39m\"\u001b[39m, final\u001b[39m=\u001b[39m\u001b[39mTrue\u001b[39;00m, color\u001b[39m=\u001b[39m\u001b[39m\"\u001b[39m\u001b[39mblue\u001b[39m\u001b[39m\"\u001b[39m)\n\u001b[0;32m    156\u001b[0m s_print(\u001b[39mf\u001b[39m\u001b[39m\"\u001b[39m\u001b[39mLoading scenario structure...\u001b[39m\u001b[39m\"\u001b[39m, time\u001b[39m=\u001b[39m\u001b[39mTrue\u001b[39;00m, newline\u001b[39m=\u001b[39m\u001b[39mTrue\u001b[39;00m)\n\u001b[1;32m--> 157\u001b[0m scenario\u001b[39m.\u001b[39;49m_load_structure()\n\u001b[0;32m    158\u001b[0m _initialise_version_dependencies(scenario\u001b[39m.\u001b[39mgame_version, scenario\u001b[39m.\u001b[39mscenario_version)\n\u001b[0;32m    159\u001b[0m s_print(\u001b[39mf\u001b[39m\u001b[39m\"\u001b[39m\u001b[39mLoading scenario structure finished successfully.\u001b[39m\u001b[39m\"\u001b[39m, final\u001b[39m=\u001b[39m\u001b[39mTrue\u001b[39;00m, time\u001b[39m=\u001b[39m\u001b[39mTrue\u001b[39;00m)\n",
      "File \u001b[1;32mc:\\Users\\josep\\AppData\\Local\\Programs\\Python\\Python310\\lib\\site-packages\\AoE2ScenarioParser\\scenarios\\aoe2_scenario.py:201\u001b[0m, in \u001b[0;36mAoE2Scenario._load_structure\u001b[1;34m(self)\u001b[0m\n\u001b[0;32m    199\u001b[0m \u001b[39mif\u001b[39;00m \u001b[39mself\u001b[39m\u001b[39m.\u001b[39mgame_version \u001b[39m==\u001b[39m \u001b[39m\"\u001b[39m\u001b[39m???\u001b[39m\u001b[39m\"\u001b[39m \u001b[39mor\u001b[39;00m \u001b[39mself\u001b[39m\u001b[39m.\u001b[39mscenario_version \u001b[39m==\u001b[39m \u001b[39m\"\u001b[39m\u001b[39m???\u001b[39m\u001b[39m\"\u001b[39m:\n\u001b[0;32m    200\u001b[0m     \u001b[39mraise\u001b[39;00m \u001b[39mValueError\u001b[39;00m(\u001b[39m\"\u001b[39m\u001b[39mBoth game and scenario version need to be set to load structure\u001b[39m\u001b[39m\"\u001b[39m)\n\u001b[1;32m--> 201\u001b[0m \u001b[39mself\u001b[39m\u001b[39m.\u001b[39mstructure \u001b[39m=\u001b[39m _get_structure(\u001b[39mself\u001b[39;49m\u001b[39m.\u001b[39;49mgame_version, \u001b[39mself\u001b[39;49m\u001b[39m.\u001b[39;49mscenario_version)\n",
      "File \u001b[1;32mc:\\Users\\josep\\AppData\\Local\\Programs\\Python\\Python310\\lib\\site-packages\\AoE2ScenarioParser\\scenarios\\aoe2_scenario.py:734\u001b[0m, in \u001b[0;36m_get_structure\u001b[1;34m(game_version, scenario_version)\u001b[0m\n\u001b[0;32m    732\u001b[0m \u001b[39mexcept\u001b[39;00m \u001b[39mFileNotFoundError\u001b[39;00m:  \u001b[39m# Unsupported version\u001b[39;00m\n\u001b[0;32m    733\u001b[0m     v \u001b[39m=\u001b[39m \u001b[39mf\u001b[39m\u001b[39m\"\u001b[39m\u001b[39m{\u001b[39;00mgame_version\u001b[39m}\u001b[39;00m\u001b[39m:\u001b[39m\u001b[39m{\u001b[39;00mscenario_version\u001b[39m}\u001b[39;00m\u001b[39m\"\u001b[39m\n\u001b[1;32m--> 734\u001b[0m     \u001b[39mraise\u001b[39;00m UnknownScenarioStructureError(\u001b[39mf\u001b[39m\u001b[39m\"\u001b[39m\u001b[39mThe version \u001b[39m\u001b[39m{\u001b[39;00mv\u001b[39m}\u001b[39;00m\u001b[39m is not supported by AoE2ScenarioParser. :(\u001b[39m\u001b[39m\"\u001b[39m) \u001b[39mfrom\u001b[39;00m \u001b[39mNone\u001b[39m\n",
      "\u001b[1;31mUnknownScenarioStructureError\u001b[0m: The version DE:1.51 is not supported by AoE2ScenarioParser. :("
     ]
    }
   ],
   "source": [
    "scenario = Scenario(map)"
   ]
  },
  {
   "cell_type": "code",
   "execution_count": null,
   "metadata": {},
   "outputs": [
    {
     "name": "stdout",
     "output_type": "stream",
     "text": [
      "\n",
      "[22:57:43] Reconstructing sections and structs from managers...\n",
      "\u001b[32m\t✔ MessageManager\u001b[0mssageManager...\u001b[0m\n",
      "\u001b[32m\t✔ PlayerManager\u001b[0mlayerManager...\u001b[0m\n",
      "\u001b[32m\t✔ MapManager\u001b[0mg MapManager...\u001b[0m\n",
      "\u001b[32m\t✔ UnitManager\u001b[0m UnitManager...\u001b[0m\n",
      "\u001b[32m\t✔ TriggerManager\u001b[0miggerManager...\u001b[0m\n",
      "\u001b[32m\t✔ XsManager\u001b[0mng XsManager...\u001b[0m\n",
      "[22:57:45] Reconstruction finished successfully.\n",
      "\n",
      "[22:57:45] File writing from structure started...\n",
      "\u001b[32m\t✔ FileHeader\u001b[0mg FileHeader...\u001b[0m\n",
      "\u001b[32m\t✔ DataHeader\u001b[0mg DataHeader...\u001b[0m\n",
      "\u001b[32m\t✔ Messages\u001b[0ming Messages...\u001b[0m\n",
      "\u001b[32m\t✔ Cinematics\u001b[0mg Cinematics...\u001b[0m\n",
      "\u001b[32m\t✔ BackgroundImage\u001b[0mkgroundImage...\u001b[0m\n",
      "\u001b[32m\t✔ PlayerDataTwo\u001b[0mlayerDataTwo...\u001b[0m\n",
      "\u001b[32m\t✔ GlobalVictory\u001b[0mlobalVictory...\u001b[0m\n",
      "\u001b[32m\t✔ Diplomacy\u001b[0mng Diplomacy...\u001b[0m\n",
      "\u001b[32m\t✔ Options\u001b[0mting Options...\u001b[0m\n",
      "\u001b[32m\t✔ Map\u001b[0mtructing Map...\u001b[0m\n",
      "\u001b[32m\t✔ Units\u001b[0mucting Units...\u001b[0m\n",
      "\u001b[32m\t✔ Triggers\u001b[0ming Triggers...\u001b[0m\n",
      "\u001b[32m\t✔ Files\u001b[0mucting Files...\u001b[0m\n",
      "[22:57:46] File writing finished successfully.\n",
      "[22:57:46] File successfully written to: \u001b[35m'C:\\Users\\josep\\Games\\Age of Empires 2 DE\\76561198242754748\\resources\\_common\\scenario\\TestScenario2.aoe2scenario'\u001b[0m\n",
      "[22:57:46] Execution time from scenario read: 8.08s\n"
     ]
    }
   ],
   "source": [
    "scenario.change_map_size(map_size)\n",
    "scenario.write_map()\n",
    "scenario.save_file(os.path.join(BASE_SCENE_DIR, \"TestScenario2.aoe2scenario\"))"
   ]
  },
  {
   "cell_type": "code",
   "execution_count": null,
   "metadata": {},
   "outputs": [],
   "source": [
    "import tkinter as tk\n",
    "\n",
    "n = 10\n",
    "colors = ['red', 'orange', 'yellow', 'green', 'blue', 'purple', 'white']\n",
    "\n",
    "def on_color_click(color):\n",
    "    global selected_color\n",
    "    selected_color = color\n",
    "\n",
    "def on_square_click(row, col):\n",
    "    btn = buttons[row][col]\n",
    "    # print(btn)\n",
    "    # print(type(btn))\n",
    "    if btn.cget('bg') == selected_color:\n",
    "        btn.config(bg='white')\n",
    "    else:\n",
    "        btn.config(bg=selected_color)\n",
    "\n",
    "default_color = 'white'\n",
    "\n",
    "root = tk.Tk()\n",
    "\n",
    "frame = tk.Frame(root)\n",
    "frame.pack(side=tk.LEFT)\n",
    "\n",
    "buttons = []\n",
    "for i in range(n):\n",
    "    row = []\n",
    "    for j in range(n):\n",
    "        btn = tk.Button(frame, text='    ', command=lambda i=i, j=j: on_square_click(i, j), bg = default_color)\n",
    "        btn.grid(row=i, column=j)\n",
    "        row.append(btn)\n",
    "    buttons.append(row)\n",
    "\n",
    "color_frame = tk.Frame(root)\n",
    "color_frame.pack(side=tk.RIGHT)\n",
    "\n",
    "for color in colors:\n",
    "    color_label = tk.Label(color_frame, text=color)\n",
    "    color_label.pack(side=tk.BOTTOM)\n",
    "    btn = tk.Button(color_frame, bg=color, command=lambda color=color: on_color_click(color))\n",
    "    btn.pack(side=tk.BOTTOM)\n",
    "\n",
    "selected_color = colors[0]\n",
    "\n",
    "root.mainloop()"
   ]
  },
  {
   "cell_type": "code",
   "execution_count": 4,
   "metadata": {},
   "outputs": [],
   "source": [
    "import tkinter as tk\n",
    "\n",
    "root = tk.Tk()\n",
    "\n",
    "# create three labels\n",
    "label1 = tk.Label(root, text=\"Label 1\")\n",
    "label2 = tk.Label(root, text=\"Label 2\")\n",
    "label3 = tk.Label(root, text=\"Label 3\")\n",
    "\n",
    "# pack the first two labels to the left\n",
    "label1.pack(side=\"left\")\n",
    "label2.pack(side=\"left\")\n",
    "\n",
    "# pack the third label to the right\n",
    "label3.pack(side=\"right\")\n",
    "\n",
    "root.mainloop()"
   ]
  }
 ],
 "metadata": {
  "kernelspec": {
   "display_name": "Python 3.10.6 64-bit",
   "language": "python",
   "name": "python3"
  },
  "language_info": {
   "codemirror_mode": {
    "name": "ipython",
    "version": 3
   },
   "file_extension": ".py",
   "mimetype": "text/x-python",
   "name": "python",
   "nbconvert_exporter": "python",
   "pygments_lexer": "ipython3",
   "version": "3.10.6"
  },
  "orig_nbformat": 4,
  "vscode": {
   "interpreter": {
    "hash": "93028d5495cf3fdad3791cfb45569ed1ffef5b94a8e8037ba1bdda77d837769f"
   }
  }
 },
 "nbformat": 4,
 "nbformat_minor": 2
}
