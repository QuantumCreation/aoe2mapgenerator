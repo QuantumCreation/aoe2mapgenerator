{
 "cells": [
  {
   "cell_type": "code",
   "execution_count": 13,
   "metadata": {},
   "outputs": [],
   "source": [
    "from AoE2ScenarioParser.datasets.players import PlayerId\n",
    "from AoE2ScenarioParser.datasets.units import UnitInfo\n",
    "from AoE2ScenarioParser.datasets.buildings import BuildingInfo\n",
    "from AoE2ScenarioParser.datasets.other import OtherInfo\n",
    "from AoE2ScenarioParser.datasets.terrains import TerrainId\n",
    "from aoe2mapgenerator.common.enums.enum import (\n",
    "    MapLayerType, \n",
    "    ObjectSize, \n",
    "    GateTypes, \n",
    "    TemplateTypes, \n",
    "    ObjectRotation, \n",
    "    YamlReplacementKeywords,\n",
    "    CheckPlacementReturnTypes\n",
    ")\n",
    "\n",
    "from aoe2mapgenerator.scenario.scenario import Scenario\n",
    "import numpy as np\n",
    "import random\n",
    "from aoe2mapgenerator.common.constants.constants import DEFAULT_EMPTY_VALUE, BASE_SCENE_DIR_LINUX, BASE_SCENARIO_NAME, TEMPLATE_DIR_LINUX\n",
    "from aoe2mapgenerator.common.constants.default_objects import GHOST_OBJECT_DISPLACEMENT\n",
    "from aoe2mapgenerator.common.enums.enum import GateTypes\n",
    "import multiprocessing as mp\n",
    "from aoe2mapgenerator.map.map import Map\n",
    "import os\n",
    "from aoe2mapgenerator.serializer.serializer import (\n",
    "    _convert_map_value_to_string,_get_enum_list, \n",
    "    _recursive_parse_enum_to_string, serialize_map, \n",
    "    get_all_functions_and_arguments, \n",
    "    _get_functions,\n",
    "    _get_function_arguments,\n",
    "    _get_default_arguments,\n",
    "    _convert_enum_instance_to_string)\n",
    "from aoe2mapgenerator.triggers.triggers import TriggerObject\n",
    "from aoe2mapgenerator.maingenerator import main_map_generator\n",
    "import inspect\n",
    "import ast\n",
    "import json\n",
    "from enum import Enum\n",
    "from aoe2mapgenerator.units.wallgenerators.voronoi import VoronoiGenerator\n",
    "from AoE2ScenarioParser.scenarios.aoe2_de_scenario import AoE2DEScenario\n",
    "from aoe2mapgenerator.units.placers.statictemplate import TemplateCreator\n",
    "from aoe2mapgenerator.units.placers.group_placer import GroupPlacerManager\n",
    "from aoe2mapgenerator.units.placers.point_manager import PointManager\n",
    "from aoe2mapgenerator.testing import awesome_function\n",
    "from aoe2mapgenerator.map.map_object import MapObject\n",
    "from aoe2mapgenerator.units.placers.point_selector import PointSelector"
   ]
  },
  {
   "cell_type": "code",
   "execution_count": 14,
   "metadata": {},
   "outputs": [
    {
     "name": "stdout",
     "output_type": "stream",
     "text": [
      "         12609434 function calls in 3.550 seconds\n",
      "\n",
      "   Ordered by: standard name\n",
      "\n",
      "   ncalls  tottime  percall  cumtime  percall filename:lineno(function)\n",
      "        1    0.146    0.146    3.550    3.550 <string>:1(<module>)\n",
      "    10694    0.013    0.000    0.037    0.000 ipkernel.py:775(_clean_thread_parent_frames)\n",
      "     5347    0.007    0.000    0.013    0.000 ipkernel.py:790(<setcomp>)\n",
      "        1    0.000    0.000    3.404    3.404 map.py:17(__init__)\n",
      "  1250000    1.177    0.000    1.200    0.000 map_object.py:14(__init__)\n",
      "  2500000    0.346    0.000    0.481    0.000 map_object.py:18(__hash__)\n",
      "  2499990    0.507    0.000    0.603    0.000 map_object.py:21(__eq__)\n",
      "        5    0.000    0.000    3.404    0.681 maplayer.py:22(__init__)\n",
      "        5    0.002    0.000    1.490    0.298 maplayer.py:26(<listcomp>)\n",
      "     2500    0.288    0.000    1.488    0.001 maplayer.py:27(<listcomp>)\n",
      "        5    0.658    0.132    1.914    0.383 maplayer.py:88(_create_dict)\n",
      "    37429    0.005    0.000    0.005    0.000 threading.py:1145(ident)\n",
      "     5347    0.007    0.000    0.009    0.000 threading.py:1478(enumerate)\n",
      "        1    0.000    0.000    3.550    3.550 {built-in method builtins.exec}\n",
      "  2500000    0.135    0.000    0.135    0.000 {built-in method builtins.hash}\n",
      "  2510684    0.097    0.000    0.097    0.000 {built-in method builtins.isinstance}\n",
      "     5347    0.001    0.000    0.001    0.000 {method '__exit__' of '_thread.RLock' objects}\n",
      "  1249995    0.158    0.000    0.158    0.000 {method 'add' of 'set' objects}\n",
      "        1    0.000    0.000    0.000    0.000 {method 'disable' of '_lsprof.Profiler' objects}\n",
      "    21388    0.001    0.000    0.001    0.000 {method 'keys' of 'dict' objects}\n",
      "    10694    0.001    0.000    0.001    0.000 {method 'values' of 'dict' objects}\n",
      "\n",
      "\n"
     ]
    }
   ],
   "source": [
    "import cProfile\n",
    "data = cProfile.run('Map(500)')"
   ]
  },
  {
   "cell_type": "code",
   "execution_count": 11,
   "metadata": {},
   "outputs": [],
   "source": [
    "n = 256\n",
    "map = Map(n)\n",
    "\n",
    "# point_manager = PointManager()\n",
    "# for i in range(n):\n",
    "#     for j in range(n):\n",
    "#         point_manager.add_point((i,j))"
   ]
  },
  {
   "cell_type": "code",
   "execution_count": 12,
   "metadata": {},
   "outputs": [],
   "source": [
    "point_selector = PointSelector(map)"
   ]
  },
  {
   "cell_type": "code",
   "execution_count": null,
   "metadata": {},
   "outputs": [],
   "source": [
    "point_selector.get_points_from_map_layer(MapLayerType.UNIT, MapObject(DEFAULT_EMPTY_VALUE, PlayerId.GAIA))"
   ]
  },
  {
   "cell_type": "code",
   "execution_count": 14,
   "metadata": {},
   "outputs": [],
   "source": [
    "for i in range(n):\n",
    "    for j in range(n):\n",
    "        map.set_point(i,j, UnitInfo.ALFRED_THE_ALPACA, MapLayerType.UNIT)"
   ]
  },
  {
   "cell_type": "code",
   "execution_count": 15,
   "metadata": {},
   "outputs": [],
   "source": [
    "list = []\n",
    "for i in range(n):\n",
    "    for j in range(n):\n",
    "        list.append((i,j))"
   ]
  },
  {
   "cell_type": "code",
   "execution_count": 57,
   "metadata": {},
   "outputs": [],
   "source": [
    "voronoi_manager = VoronoiGenerator(map)\n",
    "group_placer_manager = GroupPlacerManager(map)"
   ]
  },
  {
   "cell_type": "code",
   "execution_count": 24,
   "metadata": {},
   "outputs": [
    {
     "name": "stdout",
     "output_type": "stream",
     "text": [
      "Done\n"
     ]
    }
   ],
   "source": [
    "zones = voronoi_manager.generate_voronoi_cells(point_manager, 50, MapLayerType.ZONE)\n",
    "\n",
    "print(\"Done\")"
   ]
  },
  {
   "cell_type": "code",
   "execution_count": 13,
   "metadata": {},
   "outputs": [],
   "source": [
    "group_placer_manager.place_groups(\n",
    "    point_manager, MapLayerType.UNIT, UnitInfo.AMAZON_ARCHER, PlayerId.ONE, 500, 250, None, None, 0)"
   ]
  },
  {
   "cell_type": "code",
   "execution_count": 51,
   "metadata": {},
   "outputs": [],
   "source": [
    "group_placer_manager.place_groups(\n",
    "    point_manager, MapLayerType.UNIT, UnitInfo.AMAZON_ARCHER, PlayerId.ONE, 5, 15, None, None, 15)"
   ]
  },
  {
   "cell_type": "code",
   "execution_count": 8,
   "metadata": {},
   "outputs": [],
   "source": [
    "group_placer_manager.place_groups(\n",
    "    point_manager=point_manager,\n",
    "    map_layer_type=MapLayerType.UNIT,\n",
    "    obj_type_list=[UnitInfo.AMAZON_ARCHER, UnitInfo.ARCHER],\n",
    "    player_id=PlayerId.ONE,\n",
    "    group_size=1,\n",
    "    groups=1\n",
    ")"
   ]
  },
  {
   "cell_type": "code",
   "execution_count": 52,
   "metadata": {},
   "outputs": [
    {
     "data": {
      "text/plain": [
       "{(2, 40),\n",
       " (3, 41),\n",
       " (5, 23),\n",
       " (5, 34),\n",
       " (5, 39),\n",
       " (5, 43),\n",
       " (6, 25),\n",
       " (6, 39),\n",
       " (6, 40),\n",
       " (6, 41),\n",
       " (7, 23),\n",
       " (7, 25),\n",
       " (7, 30),\n",
       " (7, 32),\n",
       " (7, 39),\n",
       " (7, 45),\n",
       " (8, 21),\n",
       " (8, 26),\n",
       " (8, 29),\n",
       " (8, 39),\n",
       " (8, 41),\n",
       " (9, 27),\n",
       " (9, 28),\n",
       " (9, 39),\n",
       " (10, 15),\n",
       " (10, 20),\n",
       " (10, 21),\n",
       " (10, 26),\n",
       " (10, 30),\n",
       " (10, 39),\n",
       " (10, 43),\n",
       " (11, 16),\n",
       " (11, 20),\n",
       " (11, 30),\n",
       " (12, 19),\n",
       " (13, 17),\n",
       " (14, 20),\n",
       " (14, 24),\n",
       " (15, 21),\n",
       " (15, 24),\n",
       " (16, 16),\n",
       " (16, 21),\n",
       " (17, 17),\n",
       " (17, 18),\n",
       " (17, 45),\n",
       " (17, 48),\n",
       " (17, 49),\n",
       " (20, 21),\n",
       " (20, 45),\n",
       " (20, 49),\n",
       " (21, 46),\n",
       " (21, 48),\n",
       " (22, 46),\n",
       " (23, 47),\n",
       " (24, 45),\n",
       " (24, 46),\n",
       " (24, 48),\n",
       " (24, 49),\n",
       " (25, 42),\n",
       " (27, 49),\n",
       " (36, 5),\n",
       " (38, 5),\n",
       " (40, 1),\n",
       " (40, 3),\n",
       " (42, 0),\n",
       " (42, 1),\n",
       " (43, 5),\n",
       " (44, 0),\n",
       " (44, 1),\n",
       " (44, 3),\n",
       " (44, 7),\n",
       " (44, 8),\n",
       " (44, 11),\n",
       " (45, 1),\n",
       " (45, 2),\n",
       " (46, 0),\n",
       " (46, 2),\n",
       " (46, 5),\n",
       " (46, 6),\n",
       " (46, 9),\n",
       " (46, 16),\n",
       " (47, 0),\n",
       " (47, 5),\n",
       " (47, 8),\n",
       " (47, 9),\n",
       " (48, 5),\n",
       " (48, 13),\n",
       " (48, 14),\n",
       " (49, 6),\n",
       " (49, 11)}"
      ]
     },
     "execution_count": 52,
     "metadata": {},
     "output_type": "execute_result"
    }
   ],
   "source": [
    "map.get_map_layer(MapLayerType.UNIT).get_array_of_points(MapObject(UnitInfo.AMAZON_ARCHER, PlayerId.ONE))"
   ]
  },
  {
   "cell_type": "code",
   "execution_count": 7,
   "metadata": {},
   "outputs": [],
   "source": [
    "# map.get_map_layer(MapLayerType.ZONE).get_array()[0]"
   ]
  },
  {
   "cell_type": "code",
   "execution_count": 53,
   "metadata": {},
   "outputs": [
    {
     "data": {
      "image/png": "[encoded data removed]",
      "text/plain": [
       "<Figure size 2500x2500 with 1 Axes>"
      ]
     },
     "metadata": {},
     "output_type": "display_data"
    }
   ],
   "source": [
    "map.visualize_mat(MapLayerType.UNIT, include_zones=False)"
   ]
  }
 ],
 "metadata": {
  "kernelspec": {
   "display_name": ".venv",
   "language": "python",
   "name": "python3"
  },
  "language_info": {
   "codemirror_mode": {
    "name": "ipython",
    "version": 3
   },
   "file_extension": ".py",
   "mimetype": "text/x-python",
   "name": "python",
   "nbconvert_exporter": "python",
   "pygments_lexer": "ipython3",
   "version": "3.10.12"
  }
 },
 "nbformat": 4,
 "nbformat_minor": 2
}
