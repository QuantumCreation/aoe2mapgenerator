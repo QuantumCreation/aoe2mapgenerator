{
 "cells": [
  {
   "cell_type": "code",
   "execution_count": 1,
   "metadata": {},
   "outputs": [
    {
     "ename": "ModuleNotFoundError",
     "evalue": "No module named 'aoe2mapgenerator.common'",
     "output_type": "error",
     "traceback": [
      "\u001b[0;31m---------------------------------------------------------------------------\u001b[0m",
      "\u001b[0;31mModuleNotFoundError\u001b[0m                       Traceback (most recent call last)",
      "Cell \u001b[0;32mIn[1], line 16\u001b[0m\n\u001b[1;32m      5\u001b[0m \u001b[38;5;28;01mfrom\u001b[39;00m \u001b[38;5;21;01mAoE2ScenarioParser\u001b[39;00m\u001b[38;5;21;01m.\u001b[39;00m\u001b[38;5;21;01mdatasets\u001b[39;00m\u001b[38;5;21;01m.\u001b[39;00m\u001b[38;5;21;01mterrains\u001b[39;00m \u001b[38;5;28;01mimport\u001b[39;00m TerrainId\n\u001b[1;32m      6\u001b[0m \u001b[38;5;28;01mfrom\u001b[39;00m \u001b[38;5;21;01maoe2mapgenerator\u001b[39;00m\u001b[38;5;21;01m.\u001b[39;00m\u001b[38;5;21;01msrc\u001b[39;00m\u001b[38;5;21;01m.\u001b[39;00m\u001b[38;5;21;01mcommon\u001b[39;00m\u001b[38;5;21;01m.\u001b[39;00m\u001b[38;5;21;01menums\u001b[39;00m\u001b[38;5;21;01m.\u001b[39;00m\u001b[38;5;21;01menum\u001b[39;00m \u001b[38;5;28;01mimport\u001b[39;00m (\n\u001b[1;32m      7\u001b[0m     MapLayerType,\n\u001b[1;32m      8\u001b[0m     ObjectSize,\n\u001b[0;32m   (...)\u001b[0m\n\u001b[1;32m     13\u001b[0m     CheckPlacementReturnTypes,\n\u001b[1;32m     14\u001b[0m )\n\u001b[0;32m---> 16\u001b[0m \u001b[38;5;28;01mfrom\u001b[39;00m \u001b[38;5;21;01maoe2mapgenerator\u001b[39;00m\u001b[38;5;21;01m.\u001b[39;00m\u001b[38;5;21;01msrc\u001b[39;00m\u001b[38;5;21;01m.\u001b[39;00m\u001b[38;5;21;01mscenario\u001b[39;00m\u001b[38;5;21;01m.\u001b[39;00m\u001b[38;5;21;01mscenario\u001b[39;00m \u001b[38;5;28;01mimport\u001b[39;00m Scenario\n\u001b[1;32m     17\u001b[0m \u001b[38;5;28;01mimport\u001b[39;00m \u001b[38;5;21;01mnumpy\u001b[39;00m \u001b[38;5;28;01mas\u001b[39;00m \u001b[38;5;21;01mnp\u001b[39;00m\n\u001b[1;32m     18\u001b[0m \u001b[38;5;28;01mimport\u001b[39;00m \u001b[38;5;21;01mrandom\u001b[39;00m\n",
      "File \u001b[0;32m~/Documents/Projects/aoe2mapgenerator/src/scenario/scenario.py:14\u001b[0m\n\u001b[1;32m     11\u001b[0m \u001b[38;5;28;01mfrom\u001b[39;00m \u001b[38;5;21;01mAoE2ScenarioParser\u001b[39;00m\u001b[38;5;21;01m.\u001b[39;00m\u001b[38;5;21;01mdatasets\u001b[39;00m\u001b[38;5;21;01m.\u001b[39;00m\u001b[38;5;21;01munits\u001b[39;00m \u001b[38;5;28;01mimport\u001b[39;00m UnitInfo\n\u001b[1;32m     12\u001b[0m \u001b[38;5;28;01mfrom\u001b[39;00m \u001b[38;5;21;01mAoE2ScenarioParser\u001b[39;00m\u001b[38;5;21;01m.\u001b[39;00m\u001b[38;5;21;01mscenarios\u001b[39;00m\u001b[38;5;21;01m.\u001b[39;00m\u001b[38;5;21;01maoe2_de_scenario\u001b[39;00m \u001b[38;5;28;01mimport\u001b[39;00m AoE2DEScenario\n\u001b[0;32m---> 14\u001b[0m \u001b[38;5;28;01mfrom\u001b[39;00m \u001b[38;5;21;01maoe2mapgenerator\u001b[39;00m\u001b[38;5;21;01m.\u001b[39;00m\u001b[38;5;21;01mcommon\u001b[39;00m\u001b[38;5;21;01m.\u001b[39;00m\u001b[38;5;21;01mconstants\u001b[39;00m\u001b[38;5;21;01m.\u001b[39;00m\u001b[38;5;21;01mconstants\u001b[39;00m \u001b[38;5;28;01mimport\u001b[39;00m (\n\u001b[1;32m     15\u001b[0m     BASE_SCENARIO_NAME,\n\u001b[1;32m     16\u001b[0m     BASE_SCENE_DIR_LINUX,\n\u001b[1;32m     17\u001b[0m     X_SHIFT,\n\u001b[1;32m     18\u001b[0m     Y_SHIFT,\n\u001b[1;32m     19\u001b[0m )\n\u001b[1;32m     20\u001b[0m \u001b[38;5;28;01mfrom\u001b[39;00m \u001b[38;5;21;01maoe2mapgenerator\u001b[39;00m\u001b[38;5;21;01m.\u001b[39;00m\u001b[38;5;21;01mcommon\u001b[39;00m\u001b[38;5;21;01m.\u001b[39;00m\u001b[38;5;21;01menums\u001b[39;00m\u001b[38;5;21;01m.\u001b[39;00m\u001b[38;5;21;01menum\u001b[39;00m \u001b[38;5;28;01mimport\u001b[39;00m (\n\u001b[1;32m     21\u001b[0m     GateType,\n\u001b[1;32m     22\u001b[0m     MapLayerType,\n\u001b[1;32m     23\u001b[0m     ObjectRotation,\n\u001b[1;32m     24\u001b[0m     ObjectSize,\n\u001b[1;32m     25\u001b[0m )\n\u001b[1;32m     26\u001b[0m \u001b[38;5;28;01mfrom\u001b[39;00m \u001b[38;5;21;01maoe2mapgenerator\u001b[39;00m\u001b[38;5;21;01m.\u001b[39;00m\u001b[38;5;21;01mmap\u001b[39;00m\u001b[38;5;21;01m.\u001b[39;00m\u001b[38;5;21;01mmap\u001b[39;00m \u001b[38;5;28;01mimport\u001b[39;00m Map\n",
      "\u001b[0;31mModuleNotFoundError\u001b[0m: No module named 'aoe2mapgenerator.common'"
     ]
    }
   ],
   "source": [
    "from AoE2ScenarioParser.datasets.players import PlayerId\n",
    "from AoE2ScenarioParser.datasets.units import UnitInfo\n",
    "from AoE2ScenarioParser.datasets.buildings import BuildingInfo\n",
    "from AoE2ScenarioParser.datasets.other import OtherInfo\n",
    "from AoE2ScenarioParser.datasets.terrains import TerrainId\n",
    "from aoe2mapgenerator.src.common.enums.enum import (\n",
    "    MapLayerType,\n",
    "    ObjectSize,\n",
    "    GateType,\n",
    "    TemplateTypes,\n",
    "    ObjectRotation,\n",
    "    YamlReplacementKeywords,\n",
    "    CheckPlacementReturnTypes,\n",
    ")\n",
    "\n",
    "from aoe2mapgenerator.src.scenario.scenario import Scenario\n",
    "import numpy as np\n",
    "import random\n",
    "from aoe2mapgenerator.src.common.constants.constants import (\n",
    "    DEFAULT_EMPTY_VALUE,\n",
    "    BASE_SCENE_DIR_LINUX,\n",
    "    BASE_SCENARIO_NAME,\n",
    "    TEMPLATE_DIR_LINUX,\n",
    ")\n",
    "from aoe2mapgenerator.src.common.constants.default_objects import (\n",
    "    GHOST_OBJECT_DISPLACEMENT,\n",
    ")\n",
    "from aoe2mapgenerator.src.common.enums.enum import GateType\n",
    "import multiprocessing as mp\n",
    "from aoe2mapgenerator.src.map.map import Map\n",
    "import os\n",
    "from aoe2mapgenerator.src.serializer.serializer import (\n",
    "    _convert_map_value_to_string,\n",
    "    _get_enum_list,\n",
    "    _recursive_parse_enum_to_string,\n",
    "    serialize_map,\n",
    "    get_all_functions_and_arguments,\n",
    "    _get_functions,\n",
    "    _get_function_arguments,\n",
    "    _get_default_arguments,\n",
    "    _convert_enum_instance_to_string,\n",
    ")\n",
    "from aoe2mapgenerator.src.triggers.triggers import TriggerManager\n",
    "from aoe2mapgenerator.src.maingenerator import main_map_generator\n",
    "import inspect\n",
    "import ast\n",
    "import json\n",
    "from enum import Enum\n",
    "from aoe2mapgenerator.src.units.wallgenerators.voronoi import VoronoiGenerator\n",
    "from AoE2ScenarioParser.scenarios.aoe2_de_scenario import AoE2DEScenario\n",
    "from aoe2mapgenerator.src.units.placers.statictemplate import TemplateCreator\n",
    "from aoe2mapgenerator.src.units.placers.group_placer import GroupPlacerManager\n",
    "from aoe2mapgenerator.src.units.placers.point_manager import PointManager\n",
    "from aoe2mapgenerator.src.testing import awesome_function\n",
    "from aoe2mapgenerator.src.map.map_object import MapObject\n",
    "from aoe2mapgenerator.src.units.placers.point_selector import PointSelector\n",
    "from aoe2mapgenerator.src.visualizer.visualizer import Visualizer\n",
    "from aoe2mapgenerator.src.units.placers.gate_placer import GatePlacer\n",
    "from aoe2mapgenerator.src.units.placers.wall_placer import WallPlacer\n",
    "from aoe2mapgenerator.src.map.map_manager import MapManager\n",
    "from aoe2mapgenerator.src.units.placers.placer_configs import *\n",
    "from aoe2mapgenerator.src.units.placers.placer_configs import PlaceGroupsConfig\n",
    "import dataclasses\n",
    "import json"
   ]
  },
  {
   "cell_type": "code",
   "execution_count": 51,
   "metadata": {},
   "outputs": [],
   "source": [
    "# import cProfile\n",
    "# data = cProfile.run('vor_gen.generate_voronoi_cells(point_manager=point_manager_2, interpoint_distance=2, map_layer_type=MapLayerType.UNIT)')"
   ]
  },
  {
   "cell_type": "code",
   "execution_count": 74,
   "metadata": {},
   "outputs": [],
   "source": [
    "n = 100\n",
    "map_manager = MapManager(n)"
   ]
  },
  {
   "cell_type": "code",
   "execution_count": 75,
   "metadata": {},
   "outputs": [],
   "source": [
    "point_manager = PointManager()\n",
    "point_selector = PointSelector(map_manager.get_map())\n",
    "point_manager.add_points([(i, j) for i in range(n) for j in range(n)])"
   ]
  },
  {
   "cell_type": "code",
   "execution_count": 76,
   "metadata": {},
   "outputs": [],
   "source": [
    "zones = map_manager.place_voronoi_zones(\n",
    "    VoronoiGeneratorConfig(\n",
    "        point_manager=point_manager,\n",
    "        interpoint_distance=15,\n",
    "        map_layer_type=MapLayerType.TERRAIN,\n",
    "    )\n",
    ")"
   ]
  },
  {
   "cell_type": "code",
   "execution_count": 77,
   "metadata": {},
   "outputs": [],
   "source": [
    "terrains = [\n",
    "    TerrainId.ICE,\n",
    "    TerrainId.SNOW_STRONG,\n",
    "    TerrainId.DESERT_CRACKED,\n",
    "    TerrainId.FOREST_PINE,\n",
    "    TerrainId.FOREST_AUTUMN,\n",
    "]"
   ]
  },
  {
   "cell_type": "code",
   "execution_count": 78,
   "metadata": {},
   "outputs": [],
   "source": [
    "for zone in zones:\n",
    "    points = point_selector.get_points_from_map_layer(\n",
    "        PointSelectorConfig(MapLayerType.TERRAIN, zone)\n",
    "    )\n",
    "    point_manager = PointManager()\n",
    "    point_manager.add_points(points)\n",
    "    terrain = random.choice(terrains)\n",
    "\n",
    "    map_manager.place_groups(\n",
    "        PlaceGroupsConfig(\n",
    "            point_manager=point_manager,\n",
    "            map_layer_type=MapLayerType.TERRAIN,\n",
    "            object_type=terrain,\n",
    "            player_id=PlayerId.GAIA,\n",
    "            group_size=150,\n",
    "            groups=10,\n",
    "            clumping=15,\n",
    "        )\n",
    "    )"
   ]
  },
  {
   "cell_type": "code",
   "execution_count": 79,
   "metadata": {},
   "outputs": [],
   "source": [
    "zones = map_manager.place_voronoi_zones(\n",
    "    VoronoiGeneratorConfig(\n",
    "        point_manager=point_manager,\n",
    "        interpoint_distance=50,\n",
    "        map_layer_type=MapLayerType.UNIT,\n",
    "    )\n",
    ")\n",
    "\n",
    "point_manager.clear()\n",
    "points = map_manager.get_points_from_map_layer(\n",
    "    PointSelectorConfig(\n",
    "        map_layer_type=MapLayerType.TERRAIN,\n",
    "        object_type=MapObject(TerrainId.ICE, PlayerId.GAIA),\n",
    "    )\n",
    ")\n",
    "\n",
    "point_manager.add_points(points)\n",
    "\n",
    "# point_manager = PointManager()\n",
    "# point_selector = PointSelector(map_manager.get_map())\n",
    "# point_manager.clear()\n",
    "# point_manager.add_points([(i,j) for i in range(n) for j in range(n)])\n",
    "\n",
    "\n",
    "map_manager.place_borders(\n",
    "    AddBordersConfig(\n",
    "        point_manager=point_manager,\n",
    "        map_layer_type=MapLayerType.UNIT,\n",
    "        obj_type=BuildingInfo.CITY_WALL,\n",
    "        player_id=PlayerId.ONE,\n",
    "        margin=1,\n",
    "    )\n",
    ")"
   ]
  },
  {
   "cell_type": "code",
   "execution_count": 80,
   "metadata": {},
   "outputs": [],
   "source": [
    "point_manager.clear()\n",
    "points = map_manager.get_points_from_map_layer(\n",
    "    PointSelectorConfig(\n",
    "        map_layer_type=MapLayerType.UNIT,\n",
    "        object_type=MapObject(BuildingInfo.CITY_WALL, PlayerId.ONE),\n",
    "    )\n",
    ")\n",
    "\n",
    "point_manager.add_points(points)"
   ]
  },
  {
   "cell_type": "code",
   "execution_count": 81,
   "metadata": {},
   "outputs": [],
   "source": [
    "gate_placer = GatePlacer(aoe2_map=map_manager.get_map())"
   ]
  },
  {
   "cell_type": "code",
   "execution_count": 82,
   "metadata": {},
   "outputs": [],
   "source": [
    "gate_placer.place_gate_on_four_sides(\n",
    "    point_manager=point_manager,\n",
    "    map_layer_type=MapLayerType.UNIT,\n",
    "    gate_type=GateType.CITY_GATE,\n",
    "    player_id=PlayerId.ONE,\n",
    ")"
   ]
  },
  {
   "cell_type": "code",
   "execution_count": 83,
   "metadata": {},
   "outputs": [],
   "source": [
    "# map_manager.place_groups(PlaceGroupsConfig(\n",
    "#     point_manager=point_manager,\n",
    "#     map_layer_type=MapLayerType.UNIT,\n",
    "#     object_type=UnitInfo.LEGIONARY,\n",
    "#     player_id=PlayerId.ONE,\n",
    "#     group_size=150,\n",
    "#     groups=10,\n",
    "#     clumping=15\n",
    "#     ))"
   ]
  },
  {
   "cell_type": "code",
   "execution_count": 84,
   "metadata": {},
   "outputs": [],
   "source": [
    "# n = 200\n",
    "# map_manager = MapManager(n)\n",
    "\n",
    "# point_manager = PointManager()\n",
    "# point_manager.add_points([(i, j) for i in range(n) for j in range(n)])\n",
    "\n",
    "# groups = 10\n",
    "# group_size = 10\n",
    "# total = groups * group_size\n",
    "\n",
    "# configuration = PlaceGroupsConfig(anchor\n",
    "#     player_id=PlayerId.ONE,\n",
    "#     groups=groups,\n",
    "#     group_size=group_size,\n",
    "#     clumping=10\n",
    "# )\n",
    "# map_manager.place_groups(configuration)\n",
    "\n",
    "# values = map_manager.get_set_with_map_object(\n",
    "#     map_layer_type=MapLayerType.UNIT,\n",
    "#     obj=MapObject(UnitInfo.ALFRED_THE_ALPACA, PlayerId.ONE),\n",
    "# )"
   ]
  },
  {
   "cell_type": "code",
   "execution_count": 89,
   "metadata": {},
   "outputs": [
    {
     "data": {
      "image/png": "[encoded data removed]",
      "text/plain": [
       "<Figure size 1000x1000 with 1 Axes>"
      ]
     },
     "metadata": {},
     "output_type": "display_data"
    }
   ],
   "source": [
    "map_manager.visualize_map(\n",
    "    VisualizeMapConfig(\n",
    "        map_layer_type=MapLayerType.TERRAIN,\n",
    "        fig_size=(10, 10),\n",
    "        include_legend=True,\n",
    "        anchor=(1.25, 1),\n",
    "        transpose=True,\n",
    "    )\n",
    ")"
   ]
  },
  {
   "cell_type": "code",
   "execution_count": 86,
   "metadata": {},
   "outputs": [
    {
     "name": "stdout",
     "output_type": "stream",
     "text": [
      "\n",
      "[10:23:44] Reading file: \u001b[35m'/home/joseph/.steam/steam/steamapps/compatdata/813780/pfx/dosdevices/c:/users/steamuser/Games/Age of Empires 2 DE/76561198242754748/resources/_common/scenario/BASE_SCENARIO.aoe2scenario'\u001b[0m\n",
      "[10:23:44] Reading scenario file finished successfully.\n",
      "\u001b[34m\n",
      "############### Attributes ###############\u001b[0m\n",
      "\u001b[34m>>> Game version: 'DE'\u001b[0m\n",
      "\u001b[34m>>> Scenario version: 1.53\u001b[0m\n",
      "\u001b[34m>>> Scenario variant: 'Age of Empires 2'\u001b[0m\n",
      "\u001b[34m##########################################\u001b[0m\n",
      "\n",
      "[10:23:44] Loading scenario structure finished successfully.\n",
      "[10:23:44] Parsing scenario file...\n",
      "\u001b[32m\t✔ FileHeader\u001b[0meHeader data...\u001b[0m\n",
      "\u001b[32m\t✔ DataHeader\u001b[0maHeader data...\u001b[0m\n",
      "\u001b[32m\t✔ Messages\u001b[0messages data...\u001b[0m\n",
      "\u001b[32m\t✔ Cinematics\u001b[0mematics data...\u001b[0m\n",
      "\u001b[32m\t✔ BackgroundImage\u001b[0mndImage data...\u001b[0m\n",
      "\u001b[32m\t✔ PlayerDataTwo\u001b[0mDataTwo data...\u001b[0m\n",
      "\u001b[32m\t✔ GlobalVictory\u001b[0mVictory data...\u001b[0m\n",
      "\u001b[32m\t✔ Diplomacy\u001b[0mplomacy data...\u001b[0m\n",
      "\u001b[32m\t✔ Options\u001b[0mOptions data...\u001b[0m\n",
      "\u001b[32m\t✔ Map\u001b[0ming Map data...\u001b[0m\n",
      "\u001b[32m\t✔ Units\u001b[0mg Units data...\u001b[0m\n",
      "\u001b[32m\t✔ Triggers\u001b[0mriggers data...\u001b[0m\n",
      "\u001b[32m\t✔ Files\u001b[0mg Files data...\u001b[0m\n",
      "[10:23:46] Parsing scenario file finished successfully.\n",
      "\n",
      "[10:23:46] Setting up managers ...\n",
      "\u001b[32m\t✔ MessageManager\u001b[0meManager...\u001b[0m\n",
      "\u001b[32m\t✔ PlayerManager\u001b[0mrManager...\u001b[0m\n",
      "\u001b[32m\t✔ MapManager\u001b[0mpManager...\u001b[0m\n",
      "\u001b[32m\t✔ UnitManager\u001b[0mtManager...\u001b[0m\n",
      "\u001b[32m\t✔ TriggerManager\u001b[0mrManager...\u001b[0m\n",
      "\u001b[32m\t✔ XsManager\u001b[0msManager...\u001b[0m\n",
      "[10:23:46] Setting up managers finished successfully.\n"
     ]
    }
   ],
   "source": [
    "scen = Scenario(aoe2_map=map_manager.get_map())"
   ]
  },
  {
   "cell_type": "code",
   "execution_count": 87,
   "metadata": {},
   "outputs": [],
   "source": [
    "scen.write_map()"
   ]
  },
  {
   "cell_type": "code",
   "execution_count": 88,
   "metadata": {},
   "outputs": [
    {
     "name": "stdout",
     "output_type": "stream",
     "text": [
      "\n",
      "[10:23:50] Reconstructing sections and structs from managers...\n",
      "\u001b[32m\t✔ MessageManager\u001b[0mssageManager...\u001b[0m\n",
      "\u001b[32m\t✔ PlayerManager\u001b[0mlayerManager...\u001b[0m\n",
      "\u001b[32m\t✔ MapManager\u001b[0mg MapManager...\u001b[0m\n",
      "\u001b[32m\t✔ UnitManager\u001b[0m UnitManager...\u001b[0m\n",
      "\u001b[32m\t✔ TriggerManager\u001b[0miggerManager...\u001b[0m\n",
      "\u001b[32m\t✔ XsManager\u001b[0mng XsManager...\u001b[0m\n",
      "[10:23:51] Reconstruction finished successfully.\n",
      "\n",
      "[10:23:51] File writing from structure started...\n",
      "\u001b[32m\t✔ FileHeader\u001b[0mg FileHeader...\u001b[0m\n",
      "\u001b[32m\t✔ DataHeader\u001b[0mg DataHeader...\u001b[0m\n",
      "\u001b[32m\t✔ Messages\u001b[0ming Messages...\u001b[0m\n",
      "\u001b[32m\t✔ Cinematics\u001b[0mg Cinematics...\u001b[0m\n",
      "\u001b[32m\t✔ BackgroundImage\u001b[0mkgroundImage...\u001b[0m\n",
      "\u001b[32m\t✔ PlayerDataTwo\u001b[0mlayerDataTwo...\u001b[0m\n",
      "\u001b[32m\t✔ GlobalVictory\u001b[0mlobalVictory...\u001b[0m\n",
      "\u001b[32m\t✔ Diplomacy\u001b[0mng Diplomacy...\u001b[0m\n",
      "\u001b[32m\t✔ Options\u001b[0mting Options...\u001b[0m\n",
      "\u001b[32m\t✔ Map\u001b[0mtructing Map...\u001b[0m\n",
      "\u001b[32m\t✔ Units\u001b[0mucting Units...\u001b[0m\n",
      "\u001b[32m\t✔ Triggers\u001b[0ming Triggers...\u001b[0m\n",
      "\u001b[32m\t✔ Files\u001b[0mucting Files...\u001b[0m\n",
      "[10:23:51] File writing finished successfully.\n",
      "[10:23:51] File successfully written to: \u001b[35m'/home/joseph/.steam/steam/steamapps/compatdata/813780/pfx/dosdevices/c:/users/steamuser/Games/Age of Empires 2 DE/76561198242754748/resources/_common/scenario/test_scenario3.aoe2scenario'\u001b[0m\n",
      "[10:23:51] Execution time from scenario read: 7.05s\n"
     ]
    }
   ],
   "source": [
    "scen.save_file(os.path.join(BASE_SCENE_DIR_LINUX, \"test_scenario3.aoe2scenario\"))"
   ]
  },
  {
   "cell_type": "code",
   "execution_count": 52,
   "metadata": {},
   "outputs": [
    {
     "ename": "IndexError",
     "evalue": "list index out of range",
     "output_type": "error",
     "traceback": [
      "\u001b[0;31m---------------------------------------------------------------------------\u001b[0m",
      "\u001b[0;31mIndexError\u001b[0m                                Traceback (most recent call last)",
      "Cell \u001b[0;32mIn[52], line 1\u001b[0m\n\u001b[0;32m----> 1\u001b[0m points \u001b[38;5;241m=\u001b[39m point_selector\u001b[38;5;241m.\u001b[39mget_points_from_map_layer(PointSelectorConfig(map_layer_type\u001b[38;5;241m=\u001b[39mMapLayerType\u001b[38;5;241m.\u001b[39mUNIT, object_type\u001b[38;5;241m=\u001b[39m\u001b[43mzones\u001b[49m\u001b[43m[\u001b[49m\u001b[38;5;241;43m-\u001b[39;49m\u001b[38;5;241;43m15\u001b[39;49m\u001b[43m]\u001b[49m))\n\u001b[1;32m      2\u001b[0m point_manager\u001b[38;5;241m.\u001b[39mclear()\n\u001b[1;32m      3\u001b[0m point_manager\u001b[38;5;241m.\u001b[39madd_points(points)\n",
      "\u001b[0;31mIndexError\u001b[0m: list index out of range"
     ]
    }
   ],
   "source": [
    "points = point_selector.get_points_from_map_layer(\n",
    "    PointSelectorConfig(map_layer_type=MapLayerType.UNIT, object_type=zones[-15])\n",
    ")\n",
    "point_manager.clear()\n",
    "point_manager.add_points(points)\n",
    "zones_2 = map_manager.place_voronoi_zones(\n",
    "    VoronoiGeneratorConfig(\n",
    "        point_manager=point_manager,\n",
    "        interpoint_distance=4,\n",
    "        map_layer_type=MapLayerType.UNIT,\n",
    "    )\n",
    ")\n",
    "points = point_selector.get_points_from_map_layer(\n",
    "    PointSelectorConfig(map_layer_type=MapLayerType.UNIT, object_type=zones[-16])\n",
    ")\n",
    "point_manager.clear()\n",
    "point_manager.add_points(points)\n",
    "map_manager.place_borders(\n",
    "    AddBordersConfig(\n",
    "        point_manager=point_manager,\n",
    "        map_layer_type=MapLayerType.UNIT,\n",
    "        obj_type=BuildingInfo.CITY_WALL,\n",
    "        margin=5,\n",
    "    )\n",
    ")"
   ]
  }
 ],
 "metadata": {
  "kernelspec": {
   "display_name": ".venv",
   "language": "python",
   "name": "python3"
  },
  "language_info": {
   "codemirror_mode": {
    "name": "ipython",
    "version": 3
   },
   "file_extension": ".py",
   "mimetype": "text/x-python",
   "name": "python",
   "nbconvert_exporter": "python",
   "pygments_lexer": "ipython3",
   "version": "3.10.12"
  }
 },
 "nbformat": 4,
 "nbformat_minor": 2
}
