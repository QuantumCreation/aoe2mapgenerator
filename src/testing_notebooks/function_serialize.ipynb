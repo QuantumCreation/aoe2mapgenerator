{
 "cells": [
  {
   "cell_type": "code",
   "execution_count": 4,
   "metadata": {},
   "outputs": [],
   "source": [
    "from aoe2mapgenerator.src.serializer.base_serializer import (\n",
    "    SerializationRegistry,\n",
    "    FunctionRunner,\n",
    ")\n",
    "\n",
    "from aoe2mapgenerator.src.map.map_manager import MapManager\n",
    "from aoe2mapgenerator.src.map.map import Map\n",
    "\n",
    "from aoe2mapgenerator.src.map.map import Map\n",
    "from aoe2mapgenerator.src.map.map_manager import MapManager\n",
    "from aoe2mapgenerator.src.map.map_object import MapObject\n",
    "from aoe2mapgenerator.src.common.enums.enum import MapLayerType\n",
    "from aoe2mapgenerator.src.units.placers.placer_configs import PlaceGroupsConfig\n",
    "from aoe2mapgenerator.src.units.placers.point_management.point_manager import (\n",
    "    PointCollection,\n",
    ")\n",
    "from AoE2ScenarioParser.datasets.players import PlayerId\n",
    "from AoE2ScenarioParser.datasets.units import UnitInfo\n",
    "import ujson as json"
   ]
  },
  {
   "cell_type": "code",
   "execution_count": 5,
   "metadata": {},
   "outputs": [],
   "source": [
    "map_manager = MapManager(100)"
   ]
  },
  {
   "cell_type": "code",
   "execution_count": null,
   "metadata": {},
   "outputs": [
    {
     "ename": "SyntaxError",
     "evalue": "invalid syntax (572107346.py, line 5)",
     "output_type": "error",
     "traceback": [
      "\u001b[0;36m  Cell \u001b[0;32mIn[6], line 5\u001b[0;36m\u001b[0m\n\u001b[0;31m    )\u001b[0m\n\u001b[0m    ^\u001b[0m\n\u001b[0;31mSyntaxError\u001b[0m\u001b[0;31m:\u001b[0m invalid syntax\n"
     ]
    }
   ],
   "source": [
    "point_manager = PointCollection()\n",
    "point_manager.get_theoretical_top_left_corner_point\n",
    "config = PlaceGroupsConfig(\n",
    "    point_manager=\n",
    ")\n",
    "map_manager.place_groups(PlaceGroupsConfig(\n",
    "\n",
    "\n",
    "))"
   ]
  },
  {
   "cell_type": "code",
   "execution_count": null,
   "metadata": {},
   "outputs": [],
   "source": []
  }
 ],
 "metadata": {
  "kernelspec": {
   "display_name": ".venv",
   "language": "python",
   "name": "python3"
  },
  "language_info": {
   "codemirror_mode": {
    "name": "ipython",
    "version": 3
   },
   "file_extension": ".py",
   "mimetype": "text/x-python",
   "name": "python",
   "nbconvert_exporter": "python",
   "pygments_lexer": "ipython3",
   "version": "3.10.12"
  }
 },
 "nbformat": 4,
 "nbformat_minor": 2
}
