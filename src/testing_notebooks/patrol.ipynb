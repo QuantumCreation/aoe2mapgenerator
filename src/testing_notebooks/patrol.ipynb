{
 "cells": [
  {
   "cell_type": "code",
   "execution_count": 2,
   "metadata": {},
   "outputs": [],
   "source": [
    "from aoe2mapgenerator.src.triggers.triggers import TriggerManager\n",
    "from aoe2mapgenerator.src.map.map_manager import MapManager\n",
    "from aoe2mapgenerator.src.scenario.scenario import Scenario\n",
    "import os\n",
    "from aoe2mapgenerator.src.common.constants.constants import BASE_SCENE_DIR_LINUX\n",
    "from AoE2ScenarioParser.scenarios.aoe2_de_scenario import AoE2DEScenario\n",
    "from AoE2ScenarioParser.datasets.players import PlayerId"
   ]
  },
  {
   "cell_type": "code",
   "execution_count": 4,
   "metadata": {},
   "outputs": [],
   "source": [
    "import datetime\n",
    "import random\n",
    "import string\n",
    "\n",
    "\n",
    "def generate_random_name():\n",
    "    current_time = datetime.datetime.now().strftime(\"%Y%m%d%H%M%S\")\n",
    "    random_str = \"\".join(random.choices(string.ascii_letters + string.digits, k=6))\n",
    "    return f\"{current_time}_{random_str}\""
   ]
  },
  {
   "cell_type": "code",
   "execution_count": 6,
   "metadata": {},
   "outputs": [
    {
     "name": "stdout",
     "output_type": "stream",
     "text": [
      "\n",
      "[22:41:45] Reading file: \u001b[35m'/home/joseph/.steam/steam/steamapps/compatdata/813780/pfx/dosdevices/c:/users/steamuser/Games/Age of Empires 2 DE/76561198242754748/resources/_common/scenario/BASE_SCENARIO.aoe2scenario'\u001b[0m\n",
      "[22:41:45] Reading scenario file finished successfully.\n",
      "\u001b[34m\n",
      "############### Attributes ###############\u001b[0m\n",
      "\u001b[34m>>> Game version: 'DE'\u001b[0m\n",
      "\u001b[34m>>> Scenario version: 1.53\u001b[0m\n",
      "\u001b[34m>>> Scenario variant: 'Age of Empires 2'\u001b[0m\n",
      "\u001b[34m##########################################\u001b[0m\n",
      "\n",
      "[22:41:45] Loading scenario structure finished successfully.\n",
      "[22:41:45] Parsing scenario file...\n",
      "\u001b[32m\t✔ FileHeader\u001b[0meHeader data...\u001b[0m\n",
      "\u001b[32m\t✔ DataHeader\u001b[0maHeader data...\u001b[0m\n",
      "\u001b[32m\t✔ Messages\u001b[0messages data...\u001b[0m\n",
      "\u001b[32m\t✔ Cinematics\u001b[0mematics data...\u001b[0m\n",
      "\u001b[32m\t✔ BackgroundImage\u001b[0mndImage data...\u001b[0m\n",
      "\u001b[32m\t✔ PlayerDataTwo\u001b[0mDataTwo data...\u001b[0m\n",
      "\u001b[32m\t✔ GlobalVictory\u001b[0mVictory data...\u001b[0m\n",
      "\u001b[32m\t✔ Diplomacy\u001b[0mplomacy data...\u001b[0m\n",
      "\u001b[32m\t✔ Options\u001b[0mOptions data...\u001b[0m\n",
      "\u001b[32m\t✔ Map\u001b[0ming Map data...\u001b[0m\n",
      "\u001b[32m\t✔ Units\u001b[0mg Units data...\u001b[0m\n",
      "\u001b[32m\t✔ Triggers\u001b[0mriggers data...\u001b[0m\n",
      "\u001b[32m\t✔ Files\u001b[0mg Files data...\u001b[0m\n",
      "[22:41:50] Parsing scenario file finished successfully.\n",
      "\n",
      "[22:41:50] Setting up managers ...\n",
      "\u001b[32m\t✔ MessageManager\u001b[0meManager...\u001b[0m\n",
      "\u001b[32m\t✔ PlayerManager\u001b[0mrManager...\u001b[0m\n",
      "\u001b[32m\t✔ MapManager\u001b[0mpManager...\u001b[0m\n",
      "\u001b[32m\t✔ UnitManager\u001b[0mtManager...\u001b[0m\n",
      "\u001b[32m\t✔ TriggerManager\u001b[0mrManager...\u001b[0m\n",
      "\u001b[32m\t✔ XsManager\u001b[0msManager...\u001b[0m\n",
      "[22:41:53] Setting up managers finished successfully.\n"
     ]
    },
    {
     "ename": "ValueError",
     "evalue": "Unable to read file from path '/home/joseph/.steam/steam/steamapps/compatdata/813780/pfx/dosdevices/c:/users/steamuser/Games/Age of Empires 2 DE/76561198242754748/resources/_common/scenario'",
     "output_type": "error",
     "traceback": [
      "\u001b[0;31m---------------------------------------------------------------------------\u001b[0m",
      "\u001b[0;31mValueError\u001b[0m                                Traceback (most recent call last)",
      "Cell \u001b[0;32mIn[6], line 7\u001b[0m\n\u001b[1;32m      2\u001b[0m map_manager \u001b[38;5;241m=\u001b[39m MapManager(n)\n\u001b[1;32m      5\u001b[0m scen \u001b[38;5;241m=\u001b[39m Scenario(aoe2_map\u001b[38;5;241m=\u001b[39mmap_manager\u001b[38;5;241m.\u001b[39mget_map())\n\u001b[0;32m----> 7\u001b[0m aoe2scen: AoE2DEScenario \u001b[38;5;241m=\u001b[39m \u001b[43mscen\u001b[49m\u001b[38;5;241;43m.\u001b[39;49m\u001b[43m_get_scenario\u001b[49m\u001b[43m(\u001b[49m\u001b[43mBASE_SCENE_DIR_LINUX\u001b[49m\u001b[43m)\u001b[49m\n\u001b[1;32m      9\u001b[0m obj \u001b[38;5;241m=\u001b[39m TriggerManager(aoe2scen)\n\u001b[1;32m     11\u001b[0m obj\u001b[38;5;241m.\u001b[39mpatrol(\n\u001b[1;32m     12\u001b[0m     \u001b[38;5;241m1\u001b[39m, \u001b[38;5;241m1\u001b[39m, \u001b[38;5;241m100\u001b[39m, \u001b[38;5;241m100\u001b[39m, player_id\u001b[38;5;241m=\u001b[39mPlayerId\u001b[38;5;241m.\u001b[39mONE, x_target\u001b[38;5;241m=\u001b[39m\u001b[38;5;241m100\u001b[39m, y_target\u001b[38;5;241m=\u001b[39m\u001b[38;5;241m100\u001b[39m, looping\u001b[38;5;241m=\u001b[39m\u001b[38;5;28;01mFalse\u001b[39;00m\n\u001b[1;32m     13\u001b[0m )\n",
      "File \u001b[0;32m~/Documents/Projects/aoe2mapgenerator/src/scenario/scenario.py:62\u001b[0m, in \u001b[0;36mScenario._get_scenario\u001b[0;34m(self, file_full_path)\u001b[0m\n\u001b[1;32m     55\u001b[0m \u001b[38;5;28;01mdef\u001b[39;00m \u001b[38;5;21m_get_scenario\u001b[39m(\u001b[38;5;28mself\u001b[39m, file_full_path: \u001b[38;5;28mstr\u001b[39m) \u001b[38;5;241m-\u001b[39m\u001b[38;5;241m>\u001b[39m AoE2DEScenario:\n\u001b[1;32m     56\u001b[0m \u001b[38;5;250m    \u001b[39m\u001b[38;5;124;03m\"\"\"\u001b[39;00m\n\u001b[1;32m     57\u001b[0m \u001b[38;5;124;03m    Loads a scenario from the given file name.\u001b[39;00m\n\u001b[1;32m     58\u001b[0m \n\u001b[1;32m     59\u001b[0m \u001b[38;5;124;03m    Args:\u001b[39;00m\n\u001b[1;32m     60\u001b[0m \u001b[38;5;124;03m        file_full_path (str): Full path to the scenario file.\u001b[39;00m\n\u001b[1;32m     61\u001b[0m \u001b[38;5;124;03m    \"\"\"\u001b[39;00m\n\u001b[0;32m---> 62\u001b[0m     \u001b[38;5;28;01mreturn\u001b[39;00m \u001b[43mAoE2DEScenario\u001b[49m\u001b[38;5;241;43m.\u001b[39;49m\u001b[43mfrom_file\u001b[49m\u001b[43m(\u001b[49m\u001b[43mfile_full_path\u001b[49m\u001b[43m)\u001b[49m\n",
      "File \u001b[0;32m~/Documents/Projects/aoe2mapgenerator/.venv/lib/python3.10/site-packages/AoE2ScenarioParser/scenarios/aoe2_de_scenario.py:61\u001b[0m, in \u001b[0;36mAoE2DEScenario.from_file\u001b[0;34m(cls, path, game_version, name)\u001b[0m\n\u001b[1;32m     48\u001b[0m \u001b[38;5;129m@classmethod\u001b[39m\n\u001b[1;32m     49\u001b[0m \u001b[38;5;28;01mdef\u001b[39;00m \u001b[38;5;21mfrom_file\u001b[39m(\u001b[38;5;28mcls\u001b[39m: Type[S], path: \u001b[38;5;28mstr\u001b[39m, game_version: \u001b[38;5;28mstr\u001b[39m \u001b[38;5;241m=\u001b[39m \u001b[38;5;124m\"\u001b[39m\u001b[38;5;124mDE\u001b[39m\u001b[38;5;124m\"\u001b[39m, name: \u001b[38;5;28mstr\u001b[39m \u001b[38;5;241m=\u001b[39m \u001b[38;5;124m\"\u001b[39m\u001b[38;5;124m\"\u001b[39m) \u001b[38;5;241m-\u001b[39m\u001b[38;5;241m>\u001b[39m S:\n\u001b[1;32m     50\u001b[0m \u001b[38;5;250m    \u001b[39m\u001b[38;5;124;03m\"\"\"\u001b[39;00m\n\u001b[1;32m     51\u001b[0m \u001b[38;5;124;03m    Creates and returns an instance of the AoE2DEScenario class from the given scenario file\u001b[39;00m\n\u001b[1;32m     52\u001b[0m \n\u001b[0;32m   (...)\u001b[0m\n\u001b[1;32m     59\u001b[0m \u001b[38;5;124;03m        An instance of the AoE2DEScenario class which is the object representation of the given scenario file\u001b[39;00m\n\u001b[1;32m     60\u001b[0m \u001b[38;5;124;03m    \"\"\"\u001b[39;00m\n\u001b[0;32m---> 61\u001b[0m     \u001b[38;5;28;01mreturn\u001b[39;00m \u001b[38;5;28;43msuper\u001b[39;49m\u001b[43m(\u001b[49m\u001b[43m)\u001b[49m\u001b[38;5;241;43m.\u001b[39;49m\u001b[43mfrom_file\u001b[49m\u001b[43m(\u001b[49m\u001b[43mpath\u001b[49m\u001b[38;5;241;43m=\u001b[39;49m\u001b[43mpath\u001b[49m\u001b[43m,\u001b[49m\u001b[43m \u001b[49m\u001b[43mgame_version\u001b[49m\u001b[38;5;241;43m=\u001b[39;49m\u001b[43mgame_version\u001b[49m\u001b[43m,\u001b[49m\u001b[43m \u001b[49m\u001b[43mname\u001b[49m\u001b[38;5;241;43m=\u001b[39;49m\u001b[43mname\u001b[49m\u001b[43m)\u001b[49m\n",
      "File \u001b[0;32m~/Documents/Projects/aoe2mapgenerator/.venv/lib/python3.10/site-packages/AoE2ScenarioParser/scenarios/aoe2_scenario.py:133\u001b[0m, in \u001b[0;36mAoE2Scenario.from_file\u001b[0;34m(cls, path, game_version, name)\u001b[0m\n\u001b[1;32m    131\u001b[0m filepath \u001b[38;5;241m=\u001b[39m Path(path)\n\u001b[1;32m    132\u001b[0m \u001b[38;5;28;01mif\u001b[39;00m \u001b[38;5;129;01mnot\u001b[39;00m filepath\u001b[38;5;241m.\u001b[39mis_file():\n\u001b[0;32m--> 133\u001b[0m     \u001b[38;5;28;01mraise\u001b[39;00m \u001b[38;5;167;01mValueError\u001b[39;00m(\u001b[38;5;124mf\u001b[39m\u001b[38;5;124m\"\u001b[39m\u001b[38;5;124mUnable to read file from path \u001b[39m\u001b[38;5;124m'\u001b[39m\u001b[38;5;132;01m{\u001b[39;00mfilepath\u001b[38;5;132;01m}\u001b[39;00m\u001b[38;5;124m'\u001b[39m\u001b[38;5;124m\"\u001b[39m)\n\u001b[1;32m    135\u001b[0m name \u001b[38;5;241m=\u001b[39m name \u001b[38;5;129;01mor\u001b[39;00m filepath\u001b[38;5;241m.\u001b[39mstem\n\u001b[1;32m    137\u001b[0m s_print(\u001b[38;5;124mf\u001b[39m\u001b[38;5;124m\"\u001b[39m\u001b[38;5;124mReading file: \u001b[39m\u001b[38;5;124m\"\u001b[39m \u001b[38;5;241m+\u001b[39m color_string(\u001b[38;5;124mf\u001b[39m\u001b[38;5;124m\"\u001b[39m\u001b[38;5;124m'\u001b[39m\u001b[38;5;132;01m{\u001b[39;00mpath\u001b[38;5;132;01m}\u001b[39;00m\u001b[38;5;124m'\u001b[39m\u001b[38;5;124m\"\u001b[39m, \u001b[38;5;124m\"\u001b[39m\u001b[38;5;124mmagenta\u001b[39m\u001b[38;5;124m\"\u001b[39m), final\u001b[38;5;241m=\u001b[39m\u001b[38;5;28;01mTrue\u001b[39;00m, time\u001b[38;5;241m=\u001b[39m\u001b[38;5;28;01mTrue\u001b[39;00m, newline\u001b[38;5;241m=\u001b[39m\u001b[38;5;28;01mTrue\u001b[39;00m)\n",
      "\u001b[0;31mValueError\u001b[0m: Unable to read file from path '/home/joseph/.steam/steam/steamapps/compatdata/813780/pfx/dosdevices/c:/users/steamuser/Games/Age of Empires 2 DE/76561198242754748/resources/_common/scenario'"
     ]
    }
   ],
   "source": [
    "n = 256\n",
    "map_manager = MapManager(n)\n",
    "\n",
    "\n",
    "scen = Scenario(aoe2_map=map_manager.get_map())\n",
    "\n",
    "aoe2scen: AoE2DEScenario = scen.scenario\n",
    "obj = TriggerManager(aoe2scen)\n",
    "\n",
    "obj.patrol(\n",
    "    1, 1, 100, 100, player_id=PlayerId.ONE, x_target=100, y_target=100, looping=False\n",
    ")"
   ]
  },
  {
   "cell_type": "code",
   "execution_count": null,
   "metadata": {},
   "outputs": [],
   "source": [
    "scen.write_map()\n",
    "\n",
    "name = generate_random_name() + \"_test_scenario.aoe2scenario\"\n",
    "scen.save_file(os.path.join(BASE_SCENE_DIR_LINUX, name))\n",
    "\n",
    "print(\"Scenario saved as\", name)"
   ]
  }
 ],
 "metadata": {
  "kernelspec": {
   "display_name": ".venv",
   "language": "python",
   "name": "python3"
  },
  "language_info": {
   "codemirror_mode": {
    "name": "ipython",
    "version": 3
   },
   "file_extension": ".py",
   "mimetype": "text/x-python",
   "name": "python",
   "nbconvert_exporter": "python",
   "pygments_lexer": "ipython3",
   "version": "3.10.12"
  }
 },
 "nbformat": 4,
 "nbformat_minor": 2
}
