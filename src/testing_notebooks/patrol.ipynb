{
 "cells": [
  {
   "cell_type": "code",
   "execution_count": 1,
   "metadata": {},
   "outputs": [],
   "source": [
    "from aoe2mapgenerator.src.triggers.triggers import TriggerManager\n",
    "from aoe2mapgenerator.src.map.map_manager import MapManager\n",
    "from aoe2mapgenerator.src.scenario.scenario import Scenario\n",
    "import os\n",
    "from aoe2mapgenerator.src.common.constants.constants import BASE_SCENE_DIR_LINUX\n",
    "from AoE2ScenarioParser.scenarios.aoe2_de_scenario import AoE2DEScenario\n",
    "from AoE2ScenarioParser.datasets.players import PlayerId"
   ]
  },
  {
   "cell_type": "code",
   "execution_count": 2,
   "metadata": {},
   "outputs": [],
   "source": [
    "import datetime\n",
    "import random\n",
    "import string\n",
    "\n",
    "\n",
    "def generate_random_name():\n",
    "    current_time = datetime.datetime.now().strftime(\"%Y%m%d%H%M%S\")\n",
    "    random_str = \"\".join(random.choices(string.ascii_letters + string.digits, k=6))\n",
    "    return f\"{current_time}_{random_str}\""
   ]
  },
  {
   "cell_type": "code",
   "execution_count": 3,
   "metadata": {},
   "outputs": [
    {
     "name": "stdout",
     "output_type": "stream",
     "text": [
      "\n",
      "[22:42:26] Reading file: \u001b[35m'/home/joseph/.steam/steam/steamapps/compatdata/813780/pfx/dosdevices/c:/users/steamuser/Games/Age of Empires 2 DE/76561198242754748/resources/_common/scenario/BASE_SCENARIO.aoe2scenario'\u001b[0m\n",
      "[22:42:26] Reading scenario file finished successfully.\n",
      "\u001b[34m\n",
      "############### Attributes ###############\u001b[0m\n",
      "\u001b[34m>>> Game version: 'DE'\u001b[0m\n",
      "\u001b[34m>>> Scenario version: 1.53\u001b[0m\n",
      "\u001b[34m>>> Scenario variant: 'Age of Empires 2'\u001b[0m\n",
      "\u001b[34m##########################################\u001b[0m\n",
      "\n",
      "[22:42:26] Loading scenario structure finished successfully.\n",
      "[22:42:26] Parsing scenario file...\n",
      "\u001b[32m\t✔ FileHeader\u001b[0meHeader data...\u001b[0m\n",
      "\u001b[32m\t✔ DataHeader\u001b[0maHeader data...\u001b[0m\n",
      "\u001b[32m\t✔ Messages\u001b[0messages data...\u001b[0m\n",
      "\u001b[32m\t✔ Cinematics\u001b[0mematics data...\u001b[0m\n",
      "\u001b[32m\t✔ BackgroundImage\u001b[0mndImage data...\u001b[0m\n",
      "\u001b[32m\t✔ PlayerDataTwo\u001b[0mDataTwo data...\u001b[0m\n",
      "\u001b[32m\t✔ GlobalVictory\u001b[0mVictory data...\u001b[0m\n",
      "\u001b[32m\t✔ Diplomacy\u001b[0mplomacy data...\u001b[0m\n",
      "\u001b[32m\t✔ Options\u001b[0mOptions data...\u001b[0m\n",
      "\u001b[32m\t✔ Map\u001b[0ming Map data...\u001b[0m\n",
      "\u001b[32m\t✔ Units\u001b[0mg Units data...\u001b[0m\n",
      "\u001b[32m\t✔ Triggers\u001b[0mriggers data...\u001b[0m\n",
      "\u001b[32m\t✔ Files\u001b[0mg Files data...\u001b[0m\n",
      "[22:42:28] Parsing scenario file finished successfully.\n",
      "\n",
      "[22:42:28] Setting up managers ...\n",
      "\u001b[32m\t✔ MessageManager\u001b[0meManager...\u001b[0m\n",
      "\u001b[32m\t✔ PlayerManager\u001b[0mrManager...\u001b[0m\n",
      "\u001b[32m\t✔ MapManager\u001b[0mpManager...\u001b[0m\n",
      "\u001b[32m\t✔ UnitManager\u001b[0mtManager...\u001b[0m\n",
      "\u001b[32m\t✔ TriggerManager\u001b[0mrManager...\u001b[0m\n",
      "\u001b[32m\t✔ XsManager\u001b[0msManager...\u001b[0m\n",
      "[22:42:29] Setting up managers finished successfully.\n"
     ]
    }
   ],
   "source": [
    "n = 256\n",
    "map_manager = MapManager(n)\n",
    "\n",
    "\n",
    "scen = Scenario(aoe2_map=map_manager.get_map())\n",
    "\n",
    "aoe2scen: AoE2DEScenario = scen.scenario\n",
    "obj = TriggerManager(aoe2scen)\n",
    "\n",
    "obj.patrol(\n",
    "    1, 1, 100, 100, player_id=PlayerId.ONE, x_target=100, y_target=100, looping=False\n",
    ")"
   ]
  },
  {
   "cell_type": "code",
   "execution_count": 4,
   "metadata": {},
   "outputs": [
    {
     "name": "stdout",
     "output_type": "stream",
     "text": [
      "\n",
      "[22:42:38] Reconstructing sections and structs from managers...\n",
      "\u001b[32m\t✔ MessageManager\u001b[0mssageManager...\u001b[0m\n",
      "\u001b[32m\t✔ PlayerManager\u001b[0mlayerManager...\u001b[0m\n",
      "\u001b[32m\t✔ MapManager\u001b[0mg MapManager...\u001b[0m\n",
      "\u001b[32m\t✔ UnitManager\u001b[0m UnitManager...\u001b[0m\n",
      "\u001b[32m\t✔ TriggerManager\u001b[0miggerManager...\u001b[0m\n",
      "\u001b[32m\t✔ XsManager\u001b[0mng XsManager...\u001b[0m\n",
      "[22:42:38] Reconstruction finished successfully.\n",
      "\n",
      "[22:42:38] File writing from structure started...\n",
      "\u001b[32m\t✔ FileHeader\u001b[0mg FileHeader...\u001b[0m\n",
      "\u001b[32m\t✔ DataHeader\u001b[0mg DataHeader...\u001b[0m\n",
      "\u001b[32m\t✔ Messages\u001b[0ming Messages...\u001b[0m\n",
      "\u001b[32m\t✔ Cinematics\u001b[0mg Cinematics...\u001b[0m\n",
      "\u001b[32m\t✔ BackgroundImage\u001b[0mkgroundImage...\u001b[0m\n",
      "\u001b[32m\t✔ PlayerDataTwo\u001b[0mlayerDataTwo...\u001b[0m\n",
      "\u001b[32m\t✔ GlobalVictory\u001b[0mlobalVictory...\u001b[0m\n",
      "\u001b[32m\t✔ Diplomacy\u001b[0mng Diplomacy...\u001b[0m\n",
      "\u001b[32m\t✔ Options\u001b[0mting Options...\u001b[0m\n",
      "\u001b[32m\t✔ Map\u001b[0mtructing Map...\u001b[0m\n",
      "\u001b[32m\t✔ Units\u001b[0mucting Units...\u001b[0m\n",
      "\u001b[32m\t✔ Triggers\u001b[0ming Triggers...\u001b[0m\n",
      "\u001b[32m\t✔ Files\u001b[0mucting Files...\u001b[0m\n",
      "[22:42:39] File writing finished successfully.\n",
      "[22:42:39] File successfully written to: \u001b[35m'/home/joseph/.steam/steam/steamapps/compatdata/813780/pfx/dosdevices/c:/users/steamuser/Games/Age of Empires 2 DE/76561198242754748/resources/_common/scenario/20241029224238_o2eEfZ_test_scenario.aoe2scenario'\u001b[0m\n",
      "[22:42:39] Execution time from scenario read: 12.44s\n",
      "Scenario saved as 20241029224238_o2eEfZ_test_scenario.aoe2scenario\n"
     ]
    }
   ],
   "source": [
    "scen.write_map()\n",
    "\n",
    "name = generate_random_name() + \"_test_scenario.aoe2scenario\"\n",
    "scen.save_file(os.path.join(BASE_SCENE_DIR_LINUX, name))\n",
    "\n",
    "print(\"Scenario saved as\", name)"
   ]
  }
 ],
 "metadata": {
  "kernelspec": {
   "display_name": ".venv",
   "language": "python",
   "name": "python3"
  },
  "language_info": {
   "codemirror_mode": {
    "name": "ipython",
    "version": 3
   },
   "file_extension": ".py",
   "mimetype": "text/x-python",
   "name": "python",
   "nbconvert_exporter": "python",
   "pygments_lexer": "ipython3",
   "version": "3.10.12"
  }
 },
 "nbformat": 4,
 "nbformat_minor": 2
}
