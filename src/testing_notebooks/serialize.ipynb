{
 "cells": [
  {
   "cell_type": "code",
   "execution_count": 4,
   "metadata": {},
   "outputs": [],
   "source": [
    "from aoe2mapgenerator.src.map.map_manager import MapManager\n",
    "from aoe2mapgenerator.src.map.map import Map\n",
    "\n",
    "from aoe2mapgenerator.src.map.map import Map\n",
    "from aoe2mapgenerator.src.map.map_manager import MapManager\n",
    "from aoe2mapgenerator.src.map.map_object import MapObject\n",
    "from aoe2mapgenerator.src.common.enums.enum import MapLayerType\n",
    "from aoe2mapgenerator.src.units.placers.placer_configs import PlaceGroupsConfig\n",
    "from aoe2mapgenerator.src.units.placers.point_manager import PointManager\n",
    "from AoE2ScenarioParser.datasets.players import PlayerId\n",
    "from AoE2ScenarioParser.datasets.units import UnitInfo\n",
    "import ujson as json"
   ]
  },
  {
   "cell_type": "code",
   "execution_count": 5,
   "metadata": {},
   "outputs": [],
   "source": [
    "n = 100\n",
    "map_manager = MapManager(n)"
   ]
  },
  {
   "cell_type": "code",
   "execution_count": 6,
   "metadata": {},
   "outputs": [],
   "source": [
    "point_manager = PointManager()\n",
    "point_manager.add_points([(i, j) for i in range(n) for j in range(n)])\n",
    "\n",
    "groups = 10\n",
    "group_size = 10\n",
    "total = groups * group_size\n",
    "\n",
    "configuration = PlaceGroupsConfig(\n",
    "    point_manager=point_manager,\n",
    "    map_layer_type=MapLayerType.UNIT,\n",
    "    object_type=UnitInfo.ALFRED_THE_ALPACA,\n",
    "    player_id=PlayerId.ONE,\n",
    "    groups=groups,\n",
    "    group_size=group_size,\n",
    ")\n",
    "map_manager.place_groups(configuration)\n",
    "\n",
    "values = map_manager.get_set_with_map_object(\n",
    "    map_layer_type=MapLayerType.UNIT,\n",
    "    obj=MapObject(UnitInfo.ALFRED_THE_ALPACA, PlayerId.ONE),\n",
    ")"
   ]
  },
  {
   "cell_type": "code",
   "execution_count": 7,
   "metadata": {},
   "outputs": [],
   "source": [
    "aoe2map = map_manager.get_map()"
   ]
  },
  {
   "cell_type": "code",
   "execution_count": 8,
   "metadata": {},
   "outputs": [],
   "source": [
    "serialized_map = aoe2map.serialize()"
   ]
  },
  {
   "cell_type": "code",
   "execution_count": 9,
   "metadata": {},
   "outputs": [],
   "source": [
    "deserialized_map = Map.deserialize(serialized_map)"
   ]
  },
  {
   "cell_type": "code",
   "execution_count": 10,
   "metadata": {},
   "outputs": [],
   "source": [
    "serialized_map_2 = deserialized_map.serialize()"
   ]
  },
  {
   "cell_type": "code",
   "execution_count": 14,
   "metadata": {},
   "outputs": [
    {
     "data": {
      "text/plain": [
       "True"
      ]
     },
     "execution_count": 14,
     "metadata": {},
     "output_type": "execute_result"
    }
   ],
   "source": [
    "serialized_map == serialized_map_2"
   ]
  }
 ],
 "metadata": {
  "kernelspec": {
   "display_name": ".venv",
   "language": "python",
   "name": "python3"
  },
  "language_info": {
   "codemirror_mode": {
    "name": "ipython",
    "version": 3
   },
   "file_extension": ".py",
   "mimetype": "text/x-python",
   "name": "python",
   "nbconvert_exporter": "python",
   "pygments_lexer": "ipython3",
   "version": "3.10.12"
  }
 },
 "nbformat": 4,
 "nbformat_minor": 2
}
