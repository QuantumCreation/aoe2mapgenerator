{
 "cells": [
  {
   "cell_type": "code",
   "execution_count": 2,
   "metadata": {},
   "outputs": [
    {
     "name": "stdout",
     "output_type": "stream",
     "text": [
      "{\n",
      "  \"name\": \"Silent Bob\",\n",
      "  \"dt\": {\n",
      "    \"_type\": \"datetime\",\n",
      "    \"value\": \"2013-11-11 10:40:32\"\n",
      "  }\n",
      "}\n"
     ]
    }
   ],
   "source": [
    "import json, datetime\n",
    "\n",
    "class RoundTripEncoder(json.JSONEncoder):\n",
    "    DATE_FORMAT = \"%Y-%m-%d\"\n",
    "    TIME_FORMAT = \"%H:%M:%S\"\n",
    "    def default(self, obj):\n",
    "        if isinstance(obj, datetime.datetime):\n",
    "            return {\n",
    "                \"_type\": \"datetime\",\n",
    "                \"value\": obj.strftime(\"%s %s\" % (\n",
    "                    self.DATE_FORMAT, self.TIME_FORMAT\n",
    "                ))\n",
    "            }\n",
    "        return super(RoundTripEncoder, self).default(obj)\n",
    "\n",
    "data = {\n",
    "    \"name\": \"Silent Bob\",\n",
    "    \"dt\": datetime.datetime(2013, 11, 11, 10, 40, 32)\n",
    "}\n",
    "\n",
    "print(json.dumps(data, cls=RoundTripEncoder, indent=2))\n",
    "\n",
    "import json, datetime\n",
    "from dateutil import parser\n",
    "\n",
    "class RoundTripDecoder(json.JSONDecoder):\n",
    "    def __init__(self, *args, **kwargs):\n",
    "        json.JSONDecoder.__init__(self, object_hook=self.object_hook, *args, **kwargs)\n",
    "\n",
    "    def object_hook(self, obj):\n",
    "        if '_type' not in obj:\n",
    "            return obj\n",
    "        type = obj['_type']\n",
    "        if type == 'datetime':\n",
    "            return parser.parse(obj['value'])\n",
    "        return obj\n"
   ]
  },
  {
   "cell_type": "code",
   "execution_count": null,
   "metadata": {},
   "outputs": [],
   "source": [
    "class TemplateEncoder(json.JSONEncoder):\n",
    "    def default(self, obj):\n",
    "        if isinstance(obj, Template):\n",
    "            return obj.__dict__\n",
    "        return json.JSONEncoder.default(self, obj)"
   ]
  }
 ],
 "metadata": {
  "kernelspec": {
   "display_name": ".venv",
   "language": "python",
   "name": "python3"
  },
  "language_info": {
   "codemirror_mode": {
    "name": "ipython",
    "version": 3
   },
   "file_extension": ".py",
   "mimetype": "text/x-python",
   "name": "python",
   "nbconvert_exporter": "python",
   "pygments_lexer": "ipython3",
   "version": "3.10.12"
  }
 },
 "nbformat": 4,
 "nbformat_minor": 2
}
